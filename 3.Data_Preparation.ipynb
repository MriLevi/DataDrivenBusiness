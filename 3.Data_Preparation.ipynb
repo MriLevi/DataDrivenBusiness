{
 "cells": [
  {
   "cell_type": "markdown",
   "id": "1c72dfea",
   "metadata": {},
   "source": [
    "# Data Preparation"
   ]
  },
  {
   "cell_type": "markdown",
   "id": "aa30a5c1",
   "metadata": {},
   "source": [
    "# Inhouds opgaven  data preparation\n",
    "\n",
    "## 1. Libraries\n",
    "## 2. Data Import\n",
    "## 3. Data retrieve\n",
    "## 4. Kolommen selecteren\n",
    "## 5. Duplicaten verwijderen\n",
    "## 6. Na waardes\n",
    "## 7. Dtypes omzetten\n",
    "## 8. Prognose aanpasing\n",
    "## 9. Duur kolommen aanmaken en aanpassen\n",
    "## 10. Target encoding\n"
   ]
  },
  {
   "cell_type": "markdown",
   "id": "7cc77f06",
   "metadata": {},
   "source": [
    "## 1. Libraries"
   ]
  },
  {
   "cell_type": "markdown",
   "id": "d11fa8bc",
   "metadata": {},
   "source": [
    "Hier importeren we de benodigde libraries voor het aanpassen van de data voor de modellen."
   ]
  },
  {
   "cell_type": "code",
   "execution_count": 1,
   "id": "0adbf252",
   "metadata": {},
   "outputs": [],
   "source": [
    "import numpy as np\n",
    "import pandas as pd\n",
    "import matplotlib.pyplot as plt\n",
    "from category_encoders import LeaveOneOutEncoder"
   ]
  },
  {
   "cell_type": "markdown",
   "id": "20a6a504",
   "metadata": {},
   "source": [
    "## 2. Data import"
   ]
  },
  {
   "cell_type": "markdown",
   "id": "b2c2443d",
   "metadata": {},
   "source": [
    "We laden de data van het csv bestand in zonder de Nvt"
   ]
  },
  {
   "cell_type": "code",
   "execution_count": 2,
   "id": "c10d8d28",
   "metadata": {},
   "outputs": [],
   "source": [
    "cols = list(pd.read_csv(\"sap_storing_data_hu_project.csv\", nrows =1))\n",
    "exclusion_list = ['stm_sap_mon_meld_ddt', 'stm_mon_begin_ddt','stm_mon_toelichting_trdl','stm_oh_pg_mld', 'stm_scenario_mon','stm_mon_nr_status_omschr', 'stm_mon_nr__statuscode', 'stm_mon_nr_status_wijzdd', 'stm_objectdl_code_gst', 'stm_objectdl_groep_gst','stm_progfh_in_ddt','stm_progfh_in_invoer_ddt','stm_progfh_gw_ddt','stm_progfh_gw_lwd_ddt','stm_progfh_hz','stm_veroorz_groep','stm_veroorz_code','stm_veroorz_tekst_kort','stm_effect', 'stm_afspr_aanvangddt','stm_mon_eind_ddt','stm_mon_vhdsincident','stm_dir_betrok_tr','stm_aangelegd_dd','stm_aangelegd_tijd','stm_mon_begindatum','stm_mon_begintijd','stm_progfh_gw_datum','stm_progfh_gw_lwd_datum','stm_progfh_gw_lwd_tijd','stm_progfh_gw_duur','stm_afspr_aanvangdd','stm_afspr_aanvangtijd','stm_afspr_aanvangtijd','stm_mon_eind_tijd','stm_controle_dd','stm_akkoord_mon_toewijz','stm_status_sapnaarmon','stm_fact_jn','stm_akkoord_melding_jn','stm_afsluit_ddt','stm_afsluit_dd','stm_afsluit_tijd','stm_rec_toegev_ddt','stm_hinderwaarde','stm_actie','stm_standplaats','stm_status_gebr','stm_wbi_nummer','stm_projnr','stm_historie_toelichting','stm_schade_verhaalb_jn','stm_schadenr','stm_schade_status_ga','stm_schade_statusdatum','stm_relatiervo_vorig','stm_relatiervo_volgend','stm_relatiervo','stm_afspr_func_hersteldd','stm_afspr_func_hersteltijd','stm_sorteerveld','stm_rapportage_maand','stm_rapportage_jaar','stm_x_bron_publ_dt','stm_x_bron_bestandsnaam','stm_x_bron_arch_dt','stm_x_actueel_ind','stm_x_run_id','stm_x_bk','stm_x_start_sessie_dt','stm_x_vervallen_ind']\n",
    "table = pd.read_csv('sap_storing_data_hu_project.csv', low_memory=False, usecols=[i for i in cols if i not in exclusion_list])"
   ]
  },
  {
   "cell_type": "markdown",
   "id": "307edede",
   "metadata": {},
   "source": [
    "## 3. Data retrieve"
   ]
  },
  {
   "cell_type": "markdown",
   "id": "46fb4a39",
   "metadata": {},
   "source": [
    "Functie voor het ophalen van de data voor modeling."
   ]
  },
  {
   "cell_type": "code",
   "execution_count": 3,
   "id": "a07292e9",
   "metadata": {},
   "outputs": [],
   "source": [
    "def return_model_data():\n",
    "    return [table, equipm_soort_encoder]"
   ]
  },
  {
   "cell_type": "markdown",
   "id": "97583b0f",
   "metadata": {},
   "source": [
    "## 4. Kolommen selecteren"
   ]
  },
  {
   "cell_type": "markdown",
   "id": "82a13458",
   "metadata": {},
   "source": [
    "Hier onder worden bepaalde kolommen verwijdert uit de dataset voor memory gebruik en daarnaast ook de relevantie voor het model. Er wordt in business understanding duidelijker uitgelegd waarom we deze kolommen verwijderen en of aanpassen."
   ]
  },
  {
   "cell_type": "markdown",
   "id": "7edf3160",
   "metadata": {},
   "source": [
    "We verwijderen eerst de kolommen die geen goede data bevatten."
   ]
  },
  {
   "cell_type": "code",
   "execution_count": 4,
   "id": "2a141b63",
   "metadata": {},
   "outputs": [],
   "source": [
    "table = table.drop(['stm_sap_meldtekst_lang', 'stm_sap_meldtekst', 'stm_oorz_tkst', 'stm_oorz_tekst_kort', 'stm_equipm_omschr_mld', 'stm_equipm_omschr_gst', 'Unnamed: 0', 'stm_geo_gst_uit_functiepl', 'stm_functiepl_gst', 'stm_arbeid', 'stm_evb'], axis=1)"
   ]
  },
  {
   "cell_type": "markdown",
   "id": "89c81c90",
   "metadata": {},
   "source": [
    "Daarna verwijderen we de kolommen die duplicaat informatie bevat."
   ]
  },
  {
   "cell_type": "code",
   "execution_count": 5,
   "id": "1b3c3a90",
   "metadata": {},
   "outputs": [],
   "source": [
    "table = table.drop(['stm_sap_melddatum', 'stm_sap_storeind_ddt', 'stm_sap_meldtijd', 'stm_aanngeb_tijd', 'stm_aanngeb_dd', 'stm_aanntpl_dd', 'stm_aanntpl_tijd', 'stm_progfh_in_datum', 'stm_progfh_in_tijd', 'stm_progfh_in_invoer_dat', 'stm_progfh_in_invoer_tijd', 'stm_progfh_gw_tijd', 'stm_fh_dd', 'stm_fh_tijd', 'stm_sap_storeinddatum', 'stm_sap_storeindtijd', 'stm_mon_eind_datum'], axis=1)"
   ]
  },
  {
   "cell_type": "markdown",
   "id": "70f16c5d",
   "metadata": {},
   "source": [
    "We verwijderen vervolgens de kolommen waar te veel na's in staan of te weinig informatie bevatten."
   ]
  },
  {
   "cell_type": "code",
   "execution_count": 6,
   "id": "a87b5197",
   "metadata": {},
   "outputs": [],
   "source": [
    "table = table.drop(['stm_tao_indicator_vorige', 'stm_pplg_naar', 'stm_tao_soort_mutatie', 'stm_pplg_van', 'stm_dstrglp_van', 'stm_dstrglp_naar'], axis=1)"
   ]
  },
  {
   "cell_type": "markdown",
   "id": "90024e0d",
   "metadata": {},
   "source": [
    "Hier na verwijderen we de kolommen die informatie bevat die inrelevant is voor het model"
   ]
  },
  {
   "cell_type": "code",
   "execution_count": 7,
   "id": "f7ff5fc6",
   "metadata": {},
   "outputs": [],
   "source": [
    "table = table.drop(['stm_vl_post', 'stm_mon_nr'], axis=1)"
   ]
  },
  {
   "cell_type": "markdown",
   "id": "df755fe2",
   "metadata": {},
   "source": [
    "Er wordt hieronder op basis van de business understanding verschillende functie herstel duur data verwijdert. Dit wordt in data understanding uitgelegd."
   ]
  },
  {
   "cell_type": "code",
   "execution_count": 8,
   "id": "95241d56",
   "metadata": {},
   "outputs": [],
   "source": [
    "table = table[table['stm_fh_duur'] > 0]"
   ]
  },
  {
   "cell_type": "code",
   "execution_count": 9,
   "id": "27e1b2ca",
   "metadata": {},
   "outputs": [],
   "source": [
    "table = table[table['stm_fh_duur'] <= 600]"
   ]
  },
  {
   "cell_type": "markdown",
   "id": "bdbbad5b",
   "metadata": {},
   "source": [
    "## 5. Duplicaten verwijderen"
   ]
  },
  {
   "cell_type": "markdown",
   "id": "0652482c",
   "metadata": {},
   "source": [
    "De rijen in de data bevatten duplicaten van dezelfde melding. Die meldingen worden hier verwijdert op de last occurence omdat het laatste item de laatste verandering is in de melding"
   ]
  },
  {
   "cell_type": "code",
   "execution_count": 10,
   "id": "90657700",
   "metadata": {},
   "outputs": [
    {
     "data": {
      "text/html": [
       "<div>\n",
       "<style scoped>\n",
       "    .dataframe tbody tr th:only-of-type {\n",
       "        vertical-align: middle;\n",
       "    }\n",
       "\n",
       "    .dataframe tbody tr th {\n",
       "        vertical-align: top;\n",
       "    }\n",
       "\n",
       "    .dataframe thead th {\n",
       "        text-align: right;\n",
       "    }\n",
       "</style>\n",
       "<table border=\"1\" class=\"dataframe\">\n",
       "  <thead>\n",
       "    <tr style=\"text-align: right;\">\n",
       "      <th></th>\n",
       "      <th>#stm_sap_meldnr</th>\n",
       "      <th>stm_sap_meld_ddt</th>\n",
       "      <th>stm_geo_mld</th>\n",
       "      <th>stm_geo_mld_uit_functiepl</th>\n",
       "      <th>stm_equipm_nr_mld</th>\n",
       "      <th>stm_equipm_soort_mld</th>\n",
       "      <th>stm_km_van_mld</th>\n",
       "      <th>stm_km_tot_mld</th>\n",
       "      <th>stm_prioriteit</th>\n",
       "      <th>stm_status_melding_sap</th>\n",
       "      <th>...</th>\n",
       "      <th>stm_tao_beinvloedbaar_indicator</th>\n",
       "      <th>stm_contractgeb_mld</th>\n",
       "      <th>stm_functiepl_mld</th>\n",
       "      <th>stm_techn_mld</th>\n",
       "      <th>stm_contractgeb_gst</th>\n",
       "      <th>stm_techn_gst</th>\n",
       "      <th>stm_progfh_in_duur</th>\n",
       "      <th>stm_progfh_gw_teller</th>\n",
       "      <th>stm_fh_duur</th>\n",
       "      <th>stm_reactie_duur</th>\n",
       "    </tr>\n",
       "  </thead>\n",
       "  <tbody>\n",
       "    <tr>\n",
       "      <th>35216</th>\n",
       "      <td>50117666</td>\n",
       "      <td>10/01/2013 10:42:00</td>\n",
       "      <td>541.0</td>\n",
       "      <td>541.0</td>\n",
       "      <td>NaN</td>\n",
       "      <td>NaN</td>\n",
       "      <td>13100.0</td>\n",
       "      <td>13200.0</td>\n",
       "      <td>9.0</td>\n",
       "      <td>MAFS</td>\n",
       "      <td>...</td>\n",
       "      <td>B</td>\n",
       "      <td>NaN</td>\n",
       "      <td>541</td>\n",
       "      <td>NaN</td>\n",
       "      <td>11.0</td>\n",
       "      <td>S</td>\n",
       "      <td>99999999</td>\n",
       "      <td>0.0</td>\n",
       "      <td>3.0</td>\n",
       "      <td>99999999.0</td>\n",
       "    </tr>\n",
       "    <tr>\n",
       "      <th>35217</th>\n",
       "      <td>50117666</td>\n",
       "      <td>10/01/2013 10:42:00</td>\n",
       "      <td>541.0</td>\n",
       "      <td>541.0</td>\n",
       "      <td>NaN</td>\n",
       "      <td>NaN</td>\n",
       "      <td>13100.0</td>\n",
       "      <td>13200.0</td>\n",
       "      <td>9.0</td>\n",
       "      <td>MAFS</td>\n",
       "      <td>...</td>\n",
       "      <td>B</td>\n",
       "      <td>NaN</td>\n",
       "      <td>541</td>\n",
       "      <td>NaN</td>\n",
       "      <td>11.0</td>\n",
       "      <td>S</td>\n",
       "      <td>99999999</td>\n",
       "      <td>0.0</td>\n",
       "      <td>3.0</td>\n",
       "      <td>99999999.0</td>\n",
       "    </tr>\n",
       "    <tr>\n",
       "      <th>35407</th>\n",
       "      <td>50117856</td>\n",
       "      <td>15/01/2013 15:51:00</td>\n",
       "      <td>507.0</td>\n",
       "      <td>507.0</td>\n",
       "      <td>10201352.0</td>\n",
       "      <td>WISSEL</td>\n",
       "      <td>93639.0</td>\n",
       "      <td>0.0</td>\n",
       "      <td>9.0</td>\n",
       "      <td>MAFS</td>\n",
       "      <td>...</td>\n",
       "      <td>B</td>\n",
       "      <td>30.0</td>\n",
       "      <td>507-302-1000072761</td>\n",
       "      <td>B</td>\n",
       "      <td>30.0</td>\n",
       "      <td>B</td>\n",
       "      <td>99999999</td>\n",
       "      <td>0.0</td>\n",
       "      <td>25.0</td>\n",
       "      <td>99999999.0</td>\n",
       "    </tr>\n",
       "    <tr>\n",
       "      <th>35408</th>\n",
       "      <td>50117856</td>\n",
       "      <td>15/01/2013 15:51:00</td>\n",
       "      <td>507.0</td>\n",
       "      <td>507.0</td>\n",
       "      <td>10201352.0</td>\n",
       "      <td>WISSEL</td>\n",
       "      <td>93639.0</td>\n",
       "      <td>0.0</td>\n",
       "      <td>9.0</td>\n",
       "      <td>MAFS</td>\n",
       "      <td>...</td>\n",
       "      <td>B</td>\n",
       "      <td>30.0</td>\n",
       "      <td>507-302-1000072761</td>\n",
       "      <td>B</td>\n",
       "      <td>30.0</td>\n",
       "      <td>B</td>\n",
       "      <td>99999999</td>\n",
       "      <td>0.0</td>\n",
       "      <td>25.0</td>\n",
       "      <td>99999999.0</td>\n",
       "    </tr>\n",
       "  </tbody>\n",
       "</table>\n",
       "<p>4 rows × 34 columns</p>\n",
       "</div>"
      ],
      "text/plain": [
       "       #stm_sap_meldnr     stm_sap_meld_ddt stm_geo_mld  \\\n",
       "35216         50117666  10/01/2013 10:42:00       541.0   \n",
       "35217         50117666  10/01/2013 10:42:00       541.0   \n",
       "35407         50117856  15/01/2013 15:51:00       507.0   \n",
       "35408         50117856  15/01/2013 15:51:00       507.0   \n",
       "\n",
       "       stm_geo_mld_uit_functiepl  stm_equipm_nr_mld stm_equipm_soort_mld  \\\n",
       "35216                      541.0                NaN                  NaN   \n",
       "35217                      541.0                NaN                  NaN   \n",
       "35407                      507.0         10201352.0               WISSEL   \n",
       "35408                      507.0         10201352.0               WISSEL   \n",
       "\n",
       "       stm_km_van_mld  stm_km_tot_mld  stm_prioriteit stm_status_melding_sap  \\\n",
       "35216         13100.0         13200.0             9.0                   MAFS   \n",
       "35217         13100.0         13200.0             9.0                   MAFS   \n",
       "35407         93639.0             0.0             9.0                   MAFS   \n",
       "35408         93639.0             0.0             9.0                   MAFS   \n",
       "\n",
       "       ... stm_tao_beinvloedbaar_indicator stm_contractgeb_mld  \\\n",
       "35216  ...                               B                 NaN   \n",
       "35217  ...                               B                 NaN   \n",
       "35407  ...                               B                30.0   \n",
       "35408  ...                               B                30.0   \n",
       "\n",
       "        stm_functiepl_mld stm_techn_mld  stm_contractgeb_gst stm_techn_gst  \\\n",
       "35216                 541           NaN                 11.0             S   \n",
       "35217                 541           NaN                 11.0             S   \n",
       "35407  507-302-1000072761             B                 30.0             B   \n",
       "35408  507-302-1000072761             B                 30.0             B   \n",
       "\n",
       "       stm_progfh_in_duur  stm_progfh_gw_teller stm_fh_duur  stm_reactie_duur  \n",
       "35216            99999999                   0.0         3.0        99999999.0  \n",
       "35217            99999999                   0.0         3.0        99999999.0  \n",
       "35407            99999999                   0.0        25.0        99999999.0  \n",
       "35408            99999999                   0.0        25.0        99999999.0  \n",
       "\n",
       "[4 rows x 34 columns]"
      ]
     },
     "execution_count": 10,
     "metadata": {},
     "output_type": "execute_result"
    }
   ],
   "source": [
    "table[table.duplicated('#stm_sap_meldnr', keep = False)].sort_values(by=['#stm_sap_meldnr']).head(4)"
   ]
  },
  {
   "cell_type": "code",
   "execution_count": 11,
   "id": "59d55ea6",
   "metadata": {},
   "outputs": [
    {
     "name": "stdout",
     "output_type": "stream",
     "text": [
      "(374871, 34)\n"
     ]
    }
   ],
   "source": [
    "table.drop_duplicates(subset=['#stm_sap_meldnr'],inplace=True, keep='last')\n",
    "print(table.shape)"
   ]
  },
  {
   "cell_type": "markdown",
   "id": "83887d1b",
   "metadata": {},
   "source": [
    "## 6. Na waardes"
   ]
  },
  {
   "cell_type": "markdown",
   "id": "784564ee",
   "metadata": {},
   "source": [
    "Vervolgens veranderen we de Na waardes van de kolommen die gebruikt gaan worden naar None. Hier wordt dieper op in gegaan in business understanding."
   ]
  },
  {
   "cell_type": "code",
   "execution_count": 12,
   "id": "113d7aa3",
   "metadata": {},
   "outputs": [],
   "source": [
    "table['stm_equipm_soort_gst'] = table['stm_equipm_soort_gst'].fillna('None')\n",
    "table['stm_equipm_nr_gst'] = table['stm_equipm_nr_gst'].fillna('None')\n",
    "table['stm_geo_gst'] = table['stm_geo_gst'].fillna('None')\n",
    "table['stm_contractgeb_mld'] = table['stm_contractgeb_mld'].fillna('None')\n",
    "table['stm_equipm_soort_mld'] = table['stm_equipm_soort_mld'].fillna('None')\n",
    "table['stm_equipm_nr_mld'] = table['stm_equipm_nr_mld'].fillna('None')\n",
    "table['stm_techn_mld'] = table['stm_techn_mld'].fillna('None')\n",
    "table['stm_equipm_nr_mld'] = table['stm_equipm_nr_mld'].fillna(0)"
   ]
  },
  {
   "cell_type": "markdown",
   "id": "e871e2e7",
   "metadata": {},
   "source": [
    "## 7. Dtypes omzetten"
   ]
  },
  {
   "cell_type": "markdown",
   "id": "1fdf4604",
   "metadata": {},
   "source": [
    "Hier onder veranderen we de kolommen naar de bijbehorende types voor de modellen."
   ]
  },
  {
   "cell_type": "code",
   "execution_count": 13,
   "id": "042bc077",
   "metadata": {},
   "outputs": [],
   "source": [
    "table['stm_aanntpl_ddt'] = pd.to_datetime(table['stm_aanntpl_ddt'], errors='coerce', dayfirst=False, infer_datetime_format=True)\n",
    "table['stm_aanngeb_ddt'] = pd.to_datetime(table['stm_aanngeb_ddt'], errors='coerce', dayfirst=True, infer_datetime_format=True)\n",
    "table['stm_sap_meld_ddt'] = pd.to_datetime(table['stm_sap_meld_ddt'], errors='coerce', dayfirst=True,infer_datetime_format=True)\n",
    "\n",
    "table['stm_aanntpl_ddt'] = table['stm_aanntpl_ddt'].fillna(table['stm_sap_meld_ddt'])\n",
    "\n",
    "table['stm_fh_duur'] =  pd.to_numeric(table['stm_fh_duur'], errors='coerce')\n",
    "table['stm_progfh_in_duur'] =  pd.to_numeric(table['stm_progfh_in_duur'], errors='coerce')\n",
    "table['stm_equipm_soort_mld'] = table['stm_equipm_soort_mld'].astype('category')\n",
    "table['stm_equipm_nr_mld'] = table['stm_equipm_nr_mld'].astype('category')\n"
   ]
  },
  {
   "cell_type": "markdown",
   "id": "1c006959",
   "metadata": {},
   "source": [
    "## 8. Prognose aanpasing"
   ]
  },
  {
   "cell_type": "markdown",
   "id": "4a3364b2",
   "metadata": {},
   "source": [
    "Voor de verschillende prognose duur word er hier prognose die ver afliggen van de echte functie herstel duur verwijdert."
   ]
  },
  {
   "cell_type": "code",
   "execution_count": 14,
   "id": "3636c836",
   "metadata": {},
   "outputs": [],
   "source": [
    " table = table[table['stm_progfh_in_duur'] <= 900]"
   ]
  },
  {
   "cell_type": "markdown",
   "id": "1dbc5b81",
   "metadata": {},
   "source": [
    "## 9. Duur kolommen aanmaken en aanpassen"
   ]
  },
  {
   "cell_type": "markdown",
   "id": "18bb2da4",
   "metadata": {},
   "source": [
    "Door de datetime kolommen kan der een duur bepaald worden tussen tijden. Hier onder wordt die tijd aan gemaakt en aangepast als er foutieve data in voorkomt"
   ]
  },
  {
   "cell_type": "code",
   "execution_count": 15,
   "id": "ad8f29cc",
   "metadata": {},
   "outputs": [],
   "source": [
    "table = table[table['stm_progfh_in_duur'] <= 900]\n",
    "table['stm_meld_gebeld_duur'] = (table['stm_aanngeb_ddt'] - table['stm_sap_meld_ddt']).astype('timedelta64[m]')\n",
    "table['stm_meld_ter_plekken_duur'] = (table['stm_aanntpl_ddt'] - table['stm_sap_meld_ddt']).astype('timedelta64[m]')\n",
    "\n",
    "# # van af gebeld tot ter plaatsen\n",
    "table['stm_gebeld_ter_plekken_duur'] = (table['stm_aanntpl_ddt'] - table['stm_aanngeb_ddt']).astype('timedelta64[m]')\n",
    "\n",
    "\n",
    "table.loc[(table['stm_meld_gebeld_duur'] < 0), 'stm_meld_gebeld_duur'] = 0\n",
    "table.loc[(table['stm_meld_ter_plekken_duur'] < 0), 'stm_meld_ter_plekken_duur'] = 0\n",
    "table.loc[(table['stm_gebeld_ter_plekken_duur'] < 0), 'stm_gebeld_ter_plekken_duur'] = 0\n",
    "\n",
    "table['stm_meld_gebeld_duur'] = table['stm_meld_gebeld_duur'].fillna(0)\n",
    "table['stm_meld_ter_plekken_duur'] = table['stm_meld_ter_plekken_duur'].fillna(0)\n",
    "table['stm_gebeld_ter_plekken_duur'] = table['stm_gebeld_ter_plekken_duur'].fillna(0)\n",
    "\n",
    "table = table[table['stm_gebeld_ter_plekken_duur'] < 1000]\n",
    "\n",
    "value_counts = table['stm_equipm_soort_mld'].value_counts()  \n",
    "table['stm_equipm_soort_mld'].replace((value_counts[value_counts <= 1].index), np.nan, inplace=True)"
   ]
  },
  {
   "cell_type": "markdown",
   "id": "169f6388",
   "metadata": {},
   "source": [
    "## 10. Target encoding"
   ]
  },
  {
   "cell_type": "markdown",
   "id": "0a47ada7",
   "metadata": {},
   "source": [
    "Voor de kolommen gekozen zijn als feature worden hier twee kolommen omgezet naar de leave one out encoder. In business understanding wordt dit verder uitgelegd."
   ]
  },
  {
   "cell_type": "code",
   "execution_count": 16,
   "id": "56d8c2c7",
   "metadata": {},
   "outputs": [],
   "source": [
    "equipm_soort_encoder = LeaveOneOutEncoder(return_df=True, sigma=0.05)\n",
    "table['stm_equipm_soort_mld_looe_mean'] = equipm_soort_encoder.fit_transform(table['stm_equipm_soort_mld'].astype('category'), table['stm_fh_duur'])\n",
    "\n",
    "tech_soort_encoder = LeaveOneOutEncoder(return_df=True, sigma=0.05)\n",
    "table['stm_techn_mld_looe_mean'] = tech_soort_encoder.fit_transform(table['stm_techn_mld'].astype('category'), table['stm_fh_duur'])"
   ]
  },
  {
   "cell_type": "code",
   "execution_count": 17,
   "id": "f1721dc3",
   "metadata": {},
   "outputs": [
    {
     "data": {
      "text/html": [
       "<div>\n",
       "<style scoped>\n",
       "    .dataframe tbody tr th:only-of-type {\n",
       "        vertical-align: middle;\n",
       "    }\n",
       "\n",
       "    .dataframe tbody tr th {\n",
       "        vertical-align: top;\n",
       "    }\n",
       "\n",
       "    .dataframe thead th {\n",
       "        text-align: right;\n",
       "    }\n",
       "</style>\n",
       "<table border=\"1\" class=\"dataframe\">\n",
       "  <thead>\n",
       "    <tr style=\"text-align: right;\">\n",
       "      <th></th>\n",
       "      <th>stm_techn_mld_looe_mean</th>\n",
       "      <th>stm_techn_mld_looe_mean</th>\n",
       "    </tr>\n",
       "  </thead>\n",
       "  <tbody>\n",
       "    <tr>\n",
       "      <th>32099</th>\n",
       "      <td>134.212398</td>\n",
       "      <td>134.212398</td>\n",
       "    </tr>\n",
       "    <tr>\n",
       "      <th>52801</th>\n",
       "      <td>129.896795</td>\n",
       "      <td>129.896795</td>\n",
       "    </tr>\n",
       "    <tr>\n",
       "      <th>55827</th>\n",
       "      <td>128.959074</td>\n",
       "      <td>128.959074</td>\n",
       "    </tr>\n",
       "    <tr>\n",
       "      <th>84561</th>\n",
       "      <td>128.437276</td>\n",
       "      <td>128.437276</td>\n",
       "    </tr>\n",
       "    <tr>\n",
       "      <th>86473</th>\n",
       "      <td>122.770635</td>\n",
       "      <td>122.770635</td>\n",
       "    </tr>\n",
       "    <tr>\n",
       "      <th>...</th>\n",
       "      <td>...</td>\n",
       "      <td>...</td>\n",
       "    </tr>\n",
       "    <tr>\n",
       "      <th>898509</th>\n",
       "      <td>132.223762</td>\n",
       "      <td>132.223762</td>\n",
       "    </tr>\n",
       "    <tr>\n",
       "      <th>898519</th>\n",
       "      <td>141.753390</td>\n",
       "      <td>141.753390</td>\n",
       "    </tr>\n",
       "    <tr>\n",
       "      <th>898521</th>\n",
       "      <td>138.448935</td>\n",
       "      <td>138.448935</td>\n",
       "    </tr>\n",
       "    <tr>\n",
       "      <th>898523</th>\n",
       "      <td>130.717045</td>\n",
       "      <td>130.717045</td>\n",
       "    </tr>\n",
       "    <tr>\n",
       "      <th>898525</th>\n",
       "      <td>138.804784</td>\n",
       "      <td>138.804784</td>\n",
       "    </tr>\n",
       "  </tbody>\n",
       "</table>\n",
       "<p>289670 rows × 2 columns</p>\n",
       "</div>"
      ],
      "text/plain": [
       "        stm_techn_mld_looe_mean  stm_techn_mld_looe_mean\n",
       "32099                134.212398               134.212398\n",
       "52801                129.896795               129.896795\n",
       "55827                128.959074               128.959074\n",
       "84561                128.437276               128.437276\n",
       "86473                122.770635               122.770635\n",
       "...                         ...                      ...\n",
       "898509               132.223762               132.223762\n",
       "898519               141.753390               141.753390\n",
       "898521               138.448935               138.448935\n",
       "898523               130.717045               130.717045\n",
       "898525               138.804784               138.804784\n",
       "\n",
       "[289670 rows x 2 columns]"
      ]
     },
     "execution_count": 17,
     "metadata": {},
     "output_type": "execute_result"
    }
   ],
   "source": [
    "table[['stm_techn_mld_looe_mean', 'stm_techn_mld_looe_mean']]"
   ]
  },
  {
   "cell_type": "code",
   "execution_count": null,
   "id": "a967ce89",
   "metadata": {},
   "outputs": [],
   "source": []
  },
  {
   "cell_type": "code",
   "execution_count": null,
   "id": "18cf4207",
   "metadata": {},
   "outputs": [],
   "source": []
  },
  {
   "cell_type": "code",
   "execution_count": null,
   "id": "360eb547",
   "metadata": {},
   "outputs": [],
   "source": []
  },
  {
   "cell_type": "code",
   "execution_count": null,
   "id": "510720c1",
   "metadata": {},
   "outputs": [],
   "source": []
  },
  {
   "cell_type": "code",
   "execution_count": null,
   "id": "dcc3959e",
   "metadata": {},
   "outputs": [],
   "source": []
  },
  {
   "cell_type": "code",
   "execution_count": null,
   "id": "71d0cabf",
   "metadata": {},
   "outputs": [],
   "source": []
  },
  {
   "cell_type": "code",
   "execution_count": null,
   "id": "076e4d5f",
   "metadata": {},
   "outputs": [],
   "source": []
  },
  {
   "cell_type": "code",
   "execution_count": null,
   "id": "4b09eeec",
   "metadata": {},
   "outputs": [],
   "source": []
  },
  {
   "cell_type": "code",
   "execution_count": null,
   "id": "02d4b6f8",
   "metadata": {},
   "outputs": [],
   "source": []
  },
  {
   "cell_type": "code",
   "execution_count": null,
   "id": "60c26434",
   "metadata": {},
   "outputs": [],
   "source": []
  },
  {
   "cell_type": "code",
   "execution_count": null,
   "id": "b61239a3",
   "metadata": {},
   "outputs": [],
   "source": []
  },
  {
   "cell_type": "code",
   "execution_count": null,
   "id": "2a7641a8",
   "metadata": {},
   "outputs": [],
   "source": []
  },
  {
   "cell_type": "code",
   "execution_count": null,
   "id": "5e9eb440",
   "metadata": {},
   "outputs": [],
   "source": []
  }
 ],
 "metadata": {
  "kernelspec": {
   "display_name": "Python 3",
   "language": "python",
   "name": "python3"
  },
  "language_info": {
   "codemirror_mode": {
    "name": "ipython",
    "version": 3
   },
   "file_extension": ".py",
   "mimetype": "text/x-python",
   "name": "python",
   "nbconvert_exporter": "python",
   "pygments_lexer": "ipython3",
   "version": "3.8.8"
  }
 },
 "nbformat": 4,
 "nbformat_minor": 5
}
