{
 "cells": [
  {
   "cell_type": "markdown",
   "id": "1c72dfea",
   "metadata": {},
   "source": [
    "# Data Preparation"
   ]
  },
  {
   "cell_type": "markdown",
   "id": "aa30a5c1",
   "metadata": {},
   "source": [
    "# Inhouds opgaven  data preparation\n",
    "\n",
    "## 1. Libraries\n",
    "## 2. Data Import\n",
    "## 3. Data retrieve\n",
    "## 4. Kolommen selecteren\n",
    "## 5. Duplicaten verwijderen\n",
    "## 6. Na waardes\n",
    "## 7. Dtypes omzetten\n",
    "## 8. Prognose aanpasing\n",
    "## 9. Duur kolommen aanmaken en aanpassen\n",
    "## 10. Target encoding\n"
   ]
  },
  {
   "cell_type": "markdown",
   "id": "7cc77f06",
   "metadata": {},
   "source": [
    "## 1. Libraries"
   ]
  },
  {
   "cell_type": "markdown",
   "id": "d11fa8bc",
   "metadata": {},
   "source": [
    "Hier importeren we de benodigde libraries voor het aanpassen van de data voor de modellen."
   ]
  },
  {
   "cell_type": "code",
   "execution_count": 1,
   "id": "0adbf252",
   "metadata": {},
   "outputs": [],
   "source": [
    "import numpy as np\n",
    "import pandas as pd\n",
    "import matplotlib.pyplot as plt\n",
    "import seaborn as sns\n",
    "from category_encoders import LeaveOneOutEncoder"
   ]
  },
  {
   "cell_type": "markdown",
   "id": "20a6a504",
   "metadata": {},
   "source": [
    "## 2. Data import"
   ]
  },
  {
   "cell_type": "markdown",
   "id": "b2c2443d",
   "metadata": {},
   "source": [
    "We laden de data van het csv bestand in zonder de Nvt"
   ]
  },
  {
   "cell_type": "code",
   "execution_count": 2,
   "id": "c10d8d28",
   "metadata": {},
   "outputs": [],
   "source": [
    "cols = list(pd.read_csv(\"sap_storing_data_hu_project.csv\", nrows =1))\n",
    "exclusion_list = ['stm_sap_mon_meld_ddt', 'stm_mon_begin_ddt','stm_mon_toelichting_trdl','stm_oh_pg_mld', 'stm_scenario_mon','stm_mon_nr_status_omschr', 'stm_mon_nr__statuscode','stm_progfh_gw_datum','stm_progfh_gw_lwd_datum','stm_progfh_gw_lwd_tijd','stm_progfh_gw_duur','stm_mon_nr_status_wijzdd', 'stm_objectdl_code_gst', 'stm_objectdl_groep_gst','stm_progfh_in_ddt','stm_progfh_in_invoer_ddt','stm_progfh_gw_ddt','stm_progfh_gw_lwd_ddt','stm_progfh_hz','stm_veroorz_groep','stm_veroorz_code','stm_veroorz_tekst_kort','stm_effect', 'stm_afspr_aanvangddt','stm_mon_eind_ddt','stm_mon_vhdsincident','stm_dir_betrok_tr','stm_aangelegd_dd','stm_aangelegd_tijd','stm_mon_begindatum','stm_mon_begintijd','stm_afspr_aanvangdd','stm_afspr_aanvangtijd','stm_afspr_aanvangtijd','stm_mon_eind_tijd','stm_controle_dd','stm_akkoord_mon_toewijz','stm_status_sapnaarmon','stm_fact_jn','stm_akkoord_melding_jn','stm_afsluit_ddt','stm_afsluit_dd','stm_afsluit_tijd','stm_rec_toegev_ddt','stm_hinderwaarde','stm_actie','stm_standplaats','stm_status_gebr','stm_wbi_nummer','stm_projnr','stm_historie_toelichting','stm_schade_verhaalb_jn','stm_schadenr','stm_schade_status_ga','stm_schade_statusdatum','stm_relatiervo_vorig','stm_relatiervo_volgend','stm_relatiervo','stm_afspr_func_hersteldd','stm_afspr_func_hersteltijd','stm_sorteerveld','stm_rapportage_maand','stm_rapportage_jaar','stm_x_bron_publ_dt','stm_x_bron_bestandsnaam','stm_x_bron_arch_dt','stm_x_actueel_ind','stm_x_run_id','stm_x_bk','stm_x_start_sessie_dt','stm_x_vervallen_ind']\n",
    "original_table = pd.read_csv('sap_storing_data_hu_project.csv', low_memory=False, usecols=[i for i in cols if i not in exclusion_list])"
   ]
  },
  {
   "cell_type": "markdown",
   "id": "307edede",
   "metadata": {},
   "source": [
    "## 3. Data retrieve"
   ]
  },
  {
   "cell_type": "markdown",
   "id": "46fb4a39",
   "metadata": {},
   "source": [
    "Functie voor het ophalen van de data voor modeling."
   ]
  },
  {
   "cell_type": "code",
   "execution_count": 3,
   "id": "a07292e9",
   "metadata": {},
   "outputs": [],
   "source": [
    "def return_model_data():\n",
    "    return [table, equipm_soort_encoder]"
   ]
  },
  {
   "cell_type": "markdown",
   "id": "97583b0f",
   "metadata": {},
   "source": [
    "## 4. Kolommen selecteren"
   ]
  },
  {
   "cell_type": "markdown",
   "id": "82a13458",
   "metadata": {},
   "source": [
    "Hier onder worden bepaalde kolommen verwijdert uit de dataset voor memory gebruik en daarnaast ook de relevantie voor het model. Er wordt in business understanding duidelijker uitgelegd waarom we deze kolommen verwijderen en of aanpassen."
   ]
  },
  {
   "cell_type": "markdown",
   "id": "7edf3160",
   "metadata": {},
   "source": [
    "We verwijderen eerst de kolommen die geen goede data bevatten."
   ]
  },
  {
   "cell_type": "code",
   "execution_count": 4,
   "id": "2a141b63",
   "metadata": {},
   "outputs": [],
   "source": [
    "table = original_table.copy(deep=True).drop(['stm_sap_meldtekst_lang', 'stm_sap_meldtekst', 'stm_oorz_tkst', 'stm_oorz_tekst_kort', 'stm_equipm_omschr_mld', 'stm_equipm_omschr_gst', 'Unnamed: 0', 'stm_geo_gst_uit_functiepl', 'stm_functiepl_gst', 'stm_arbeid', 'stm_evb'], axis=1)"
   ]
  },
  {
   "cell_type": "markdown",
   "id": "89c81c90",
   "metadata": {},
   "source": [
    "Daarna verwijderen we de kolommen die duplicaat informatie bevat."
   ]
  },
  {
   "cell_type": "code",
   "execution_count": 5,
   "id": "1b3c3a90",
   "metadata": {},
   "outputs": [],
   "source": [
    "table = table.drop(['stm_sap_melddatum', 'stm_sap_storeind_ddt', 'stm_sap_meldtijd', 'stm_aanngeb_tijd', 'stm_aanngeb_dd', 'stm_aanntpl_dd', 'stm_aanntpl_tijd', 'stm_progfh_in_datum', 'stm_progfh_in_tijd', 'stm_progfh_in_invoer_dat', 'stm_progfh_in_invoer_tijd', 'stm_progfh_gw_tijd', 'stm_fh_dd', 'stm_fh_tijd', 'stm_sap_storeinddatum', 'stm_sap_storeindtijd', 'stm_mon_eind_datum'], axis=1)"
   ]
  },
  {
   "cell_type": "markdown",
   "id": "70f16c5d",
   "metadata": {},
   "source": [
    "We verwijderen vervolgens de kolommen waar te veel na's in staan of te weinig informatie bevatten."
   ]
  },
  {
   "cell_type": "code",
   "execution_count": 6,
   "id": "a87b5197",
   "metadata": {},
   "outputs": [],
   "source": [
    "table = table.drop(['stm_tao_indicator_vorige', 'stm_pplg_naar', 'stm_tao_soort_mutatie', 'stm_pplg_van', 'stm_dstrglp_van', 'stm_dstrglp_naar'], axis=1)"
   ]
  },
  {
   "cell_type": "markdown",
   "id": "90024e0d",
   "metadata": {},
   "source": [
    "Hier na verwijderen we de kolommen die informatie bevat die inrelevant is voor het model"
   ]
  },
  {
   "cell_type": "code",
   "execution_count": 7,
   "id": "f7ff5fc6",
   "metadata": {},
   "outputs": [],
   "source": [
    "table = table.drop(['stm_vl_post', 'stm_mon_nr'], axis=1)"
   ]
  },
  {
   "cell_type": "markdown",
   "id": "bdbbad5b",
   "metadata": {},
   "source": [
    "## 5. Duplicaten verwijderen"
   ]
  },
  {
   "cell_type": "markdown",
   "id": "0652482c",
   "metadata": {},
   "source": [
    "De rijen in de data bevatten duplicaten van dezelfde melding. Die meldingen worden hier verwijdert op de last occurence omdat het laatste item de laatste verandering is in de melding"
   ]
  },
  {
   "cell_type": "code",
   "execution_count": 8,
   "id": "90657700",
   "metadata": {},
   "outputs": [
    {
     "data": {
      "text/html": [
       "<div>\n",
       "<style scoped>\n",
       "    .dataframe tbody tr th:only-of-type {\n",
       "        vertical-align: middle;\n",
       "    }\n",
       "\n",
       "    .dataframe tbody tr th {\n",
       "        vertical-align: top;\n",
       "    }\n",
       "\n",
       "    .dataframe thead th {\n",
       "        text-align: right;\n",
       "    }\n",
       "</style>\n",
       "<table border=\"1\" class=\"dataframe\">\n",
       "  <thead>\n",
       "    <tr style=\"text-align: right;\">\n",
       "      <th></th>\n",
       "      <th>#stm_sap_meldnr</th>\n",
       "      <th>stm_sap_meld_ddt</th>\n",
       "      <th>stm_geo_mld</th>\n",
       "      <th>stm_geo_mld_uit_functiepl</th>\n",
       "      <th>stm_equipm_nr_mld</th>\n",
       "      <th>stm_equipm_soort_mld</th>\n",
       "      <th>stm_km_van_mld</th>\n",
       "      <th>stm_km_tot_mld</th>\n",
       "      <th>stm_prioriteit</th>\n",
       "      <th>stm_status_melding_sap</th>\n",
       "      <th>...</th>\n",
       "      <th>stm_tao_beinvloedbaar_indicator</th>\n",
       "      <th>stm_contractgeb_mld</th>\n",
       "      <th>stm_functiepl_mld</th>\n",
       "      <th>stm_techn_mld</th>\n",
       "      <th>stm_contractgeb_gst</th>\n",
       "      <th>stm_techn_gst</th>\n",
       "      <th>stm_progfh_in_duur</th>\n",
       "      <th>stm_progfh_gw_teller</th>\n",
       "      <th>stm_fh_duur</th>\n",
       "      <th>stm_reactie_duur</th>\n",
       "    </tr>\n",
       "  </thead>\n",
       "  <tbody>\n",
       "    <tr>\n",
       "      <th>34729</th>\n",
       "      <td>50117070</td>\n",
       "      <td>10/01/2013 11:07:00</td>\n",
       "      <td>2.0</td>\n",
       "      <td>2.0</td>\n",
       "      <td>NaN</td>\n",
       "      <td>NaN</td>\n",
       "      <td>0.0</td>\n",
       "      <td>0.0</td>\n",
       "      <td>9.0</td>\n",
       "      <td>MAFS</td>\n",
       "      <td>...</td>\n",
       "      <td>NB</td>\n",
       "      <td>NaN</td>\n",
       "      <td>002</td>\n",
       "      <td>NaN</td>\n",
       "      <td>37.0</td>\n",
       "      <td>B</td>\n",
       "      <td>99999999</td>\n",
       "      <td>0.0</td>\n",
       "      <td>0.0</td>\n",
       "      <td>99999999.0</td>\n",
       "    </tr>\n",
       "    <tr>\n",
       "      <th>34730</th>\n",
       "      <td>50117070</td>\n",
       "      <td>10/01/2013 11:07:00</td>\n",
       "      <td>2.0</td>\n",
       "      <td>2.0</td>\n",
       "      <td>NaN</td>\n",
       "      <td>NaN</td>\n",
       "      <td>0.0</td>\n",
       "      <td>0.0</td>\n",
       "      <td>9.0</td>\n",
       "      <td>MAFS</td>\n",
       "      <td>...</td>\n",
       "      <td>NB</td>\n",
       "      <td>NaN</td>\n",
       "      <td>002</td>\n",
       "      <td>NaN</td>\n",
       "      <td>37.0</td>\n",
       "      <td>B</td>\n",
       "      <td>99999999</td>\n",
       "      <td>0.0</td>\n",
       "      <td>0.0</td>\n",
       "      <td>99999999.0</td>\n",
       "    </tr>\n",
       "    <tr>\n",
       "      <th>34731</th>\n",
       "      <td>50117071</td>\n",
       "      <td>10/01/2013 17:18:00</td>\n",
       "      <td>17.0</td>\n",
       "      <td>17.0</td>\n",
       "      <td>NaN</td>\n",
       "      <td>NaN</td>\n",
       "      <td>44500.0</td>\n",
       "      <td>45300.0</td>\n",
       "      <td>9.0</td>\n",
       "      <td>MAFS</td>\n",
       "      <td>...</td>\n",
       "      <td>NB</td>\n",
       "      <td>NaN</td>\n",
       "      <td>017</td>\n",
       "      <td>NaN</td>\n",
       "      <td>29.0</td>\n",
       "      <td>B</td>\n",
       "      <td>99999999</td>\n",
       "      <td>0.0</td>\n",
       "      <td>0.0</td>\n",
       "      <td>99999999.0</td>\n",
       "    </tr>\n",
       "    <tr>\n",
       "      <th>34732</th>\n",
       "      <td>50117071</td>\n",
       "      <td>10/01/2013 17:18:00</td>\n",
       "      <td>17.0</td>\n",
       "      <td>17.0</td>\n",
       "      <td>NaN</td>\n",
       "      <td>NaN</td>\n",
       "      <td>44500.0</td>\n",
       "      <td>45300.0</td>\n",
       "      <td>9.0</td>\n",
       "      <td>MAFS</td>\n",
       "      <td>...</td>\n",
       "      <td>NB</td>\n",
       "      <td>NaN</td>\n",
       "      <td>017</td>\n",
       "      <td>NaN</td>\n",
       "      <td>29.0</td>\n",
       "      <td>B</td>\n",
       "      <td>99999999</td>\n",
       "      <td>0.0</td>\n",
       "      <td>0.0</td>\n",
       "      <td>99999999.0</td>\n",
       "    </tr>\n",
       "  </tbody>\n",
       "</table>\n",
       "<p>4 rows × 34 columns</p>\n",
       "</div>"
      ],
      "text/plain": [
       "       #stm_sap_meldnr     stm_sap_meld_ddt stm_geo_mld  \\\n",
       "34729         50117070  10/01/2013 11:07:00         2.0   \n",
       "34730         50117070  10/01/2013 11:07:00         2.0   \n",
       "34731         50117071  10/01/2013 17:18:00        17.0   \n",
       "34732         50117071  10/01/2013 17:18:00        17.0   \n",
       "\n",
       "       stm_geo_mld_uit_functiepl  stm_equipm_nr_mld stm_equipm_soort_mld  \\\n",
       "34729                        2.0                NaN                  NaN   \n",
       "34730                        2.0                NaN                  NaN   \n",
       "34731                       17.0                NaN                  NaN   \n",
       "34732                       17.0                NaN                  NaN   \n",
       "\n",
       "       stm_km_van_mld  stm_km_tot_mld  stm_prioriteit stm_status_melding_sap  \\\n",
       "34729             0.0             0.0             9.0                   MAFS   \n",
       "34730             0.0             0.0             9.0                   MAFS   \n",
       "34731         44500.0         45300.0             9.0                   MAFS   \n",
       "34732         44500.0         45300.0             9.0                   MAFS   \n",
       "\n",
       "       ... stm_tao_beinvloedbaar_indicator stm_contractgeb_mld  \\\n",
       "34729  ...                              NB                 NaN   \n",
       "34730  ...                              NB                 NaN   \n",
       "34731  ...                              NB                 NaN   \n",
       "34732  ...                              NB                 NaN   \n",
       "\n",
       "      stm_functiepl_mld stm_techn_mld  stm_contractgeb_gst stm_techn_gst  \\\n",
       "34729               002           NaN                 37.0             B   \n",
       "34730               002           NaN                 37.0             B   \n",
       "34731               017           NaN                 29.0             B   \n",
       "34732               017           NaN                 29.0             B   \n",
       "\n",
       "       stm_progfh_in_duur  stm_progfh_gw_teller stm_fh_duur  stm_reactie_duur  \n",
       "34729            99999999                   0.0         0.0        99999999.0  \n",
       "34730            99999999                   0.0         0.0        99999999.0  \n",
       "34731            99999999                   0.0         0.0        99999999.0  \n",
       "34732            99999999                   0.0         0.0        99999999.0  \n",
       "\n",
       "[4 rows x 34 columns]"
      ]
     },
     "execution_count": 8,
     "metadata": {},
     "output_type": "execute_result"
    }
   ],
   "source": [
    "table[table.duplicated('#stm_sap_meldnr', keep = False)].sort_values(by=['#stm_sap_meldnr']).head(4)"
   ]
  },
  {
   "cell_type": "code",
   "execution_count": 9,
   "id": "59d55ea6",
   "metadata": {},
   "outputs": [
    {
     "name": "stdout",
     "output_type": "stream",
     "text": [
      "(566481, 34)\n"
     ]
    }
   ],
   "source": [
    "table.drop_duplicates(subset=['#stm_sap_meldnr'],inplace=True, keep='last')\n",
    "print(table.shape)"
   ]
  },
  {
   "cell_type": "markdown",
   "id": "83887d1b",
   "metadata": {},
   "source": [
    "## 6. Na waardes"
   ]
  },
  {
   "cell_type": "markdown",
   "id": "784564ee",
   "metadata": {},
   "source": [
    "Vervolgens veranderen we de Na waardes van de kolommen die gebruikt gaan worden naar None. Hier wordt dieper op in gegaan in business understanding."
   ]
  },
  {
   "cell_type": "code",
   "execution_count": 10,
   "id": "113d7aa3",
   "metadata": {},
   "outputs": [],
   "source": [
    "table['stm_equipm_soort_gst'] = table['stm_equipm_soort_gst'].fillna('None')\n",
    "table['stm_equipm_nr_gst'] = table['stm_equipm_nr_gst'].fillna('None')\n",
    "table['stm_geo_gst'] = table['stm_geo_gst'].fillna('None')\n",
    "table['stm_contractgeb_mld'] = table['stm_contractgeb_mld'].fillna('None')\n",
    "table['stm_equipm_soort_mld'] = table['stm_equipm_soort_mld'].fillna('None')\n",
    "table['stm_equipm_nr_mld'] = table['stm_equipm_nr_mld'].fillna('None')\n",
    "table['stm_techn_mld'] = table['stm_techn_mld'].fillna('None')\n",
    "table['stm_equipm_nr_mld'] = table['stm_equipm_nr_mld'].fillna(0)"
   ]
  },
  {
   "cell_type": "markdown",
   "id": "e871e2e7",
   "metadata": {},
   "source": [
    "## 7. Dtypes omzetten"
   ]
  },
  {
   "cell_type": "markdown",
   "id": "1fdf4604",
   "metadata": {},
   "source": [
    "Hier onder veranderen we de kolommen naar de bijbehorende types voor de modellen."
   ]
  },
  {
   "cell_type": "code",
   "execution_count": 11,
   "id": "042bc077",
   "metadata": {},
   "outputs": [],
   "source": [
    "table['stm_aanntpl_ddt'] = pd.to_datetime(table['stm_aanntpl_ddt'], errors='coerce', dayfirst=True, infer_datetime_format=True)\n",
    "table['stm_aanngeb_ddt'] = pd.to_datetime(table['stm_aanngeb_ddt'], errors='coerce', dayfirst=True, infer_datetime_format=True)\n",
    "table['stm_sap_meld_ddt'] = pd.to_datetime(table['stm_sap_meld_ddt'], errors='coerce', dayfirst=True,infer_datetime_format=True)\n",
    "\n",
    "table['stm_aanntpl_ddt'] = table['stm_aanntpl_ddt'].fillna(table['stm_sap_meld_ddt'])\n",
    "\n",
    "table['stm_fh_duur'] =  pd.to_numeric(table['stm_fh_duur'], errors='coerce')\n",
    "table['stm_progfh_in_duur'] =  pd.to_numeric(table['stm_progfh_in_duur'], errors='coerce')\n",
    "table['stm_equipm_soort_mld'] = table['stm_equipm_soort_mld'].astype('category')\n",
    "table['stm_equipm_nr_mld'] = table['stm_equipm_nr_mld'].astype('category')\n"
   ]
  },
  {
   "cell_type": "markdown",
   "id": "1c006959",
   "metadata": {},
   "source": [
    "## 8. Functieherstel en Prognose filtering\n",
    "(aangepast door Levi Verhoef)"
   ]
  },
  {
   "cell_type": "markdown",
   "id": "4a3364b2",
   "metadata": {},
   "source": [
    "We verwijderen een aantal soorten prognoses en functieherstel tijden. We kijken alleen naar functieherstel met lengte tussen de 5 minuten en 6 uur. Functiehersteltijden van onder de 5 minuten lijken mij oninteressant om te analyseren, omdat het veelal ruis betreft. Er waren bijvoorbeeld veel datapunten met een functieherstel duur van 1 minuut. Dat zal nauwelijks tot vertraging leiden en dus niets bijdragen aan de wens van de opdrachtgever.\n",
    "\n",
    "De andere kant van het spectrum hebben we 6 uur als uiterste genomen omdat functieherstellen die zo lang duren vaak voor de monteurs ook onvoorspelbaar zijn, en een onvoorspelbare aard hebben. Het is voor dit project vooral interessant om voorspelbare situaties te analyseren."
   ]
  },
  {
   "cell_type": "code",
   "execution_count": 12,
   "id": "3636c836",
   "metadata": {},
   "outputs": [],
   "source": [
    "table = table[table['stm_fh_duur'] > 5]\n",
    "table = table[table['stm_fh_duur'] <= 360]\n",
    "\n",
    "table = table[table['stm_progfh_in_duur'] <= 360]\n",
    "table = table[table['stm_progfh_in_duur'] > 5]"
   ]
  },
  {
   "cell_type": "markdown",
   "id": "1dbc5b81",
   "metadata": {},
   "source": [
    "## 9. Duur kolommen aanmaken en aanpassen"
   ]
  },
  {
   "cell_type": "markdown",
   "id": "18bb2da4",
   "metadata": {},
   "source": [
    "Door de datetime kolommen kan er een duur bepaald worden tussen tijden. Hieronder wordt die tijd aangemaakt en aangepast als er foutieve data in voorkomt."
   ]
  },
  {
   "cell_type": "code",
   "execution_count": 13,
   "id": "ad8f29cc",
   "metadata": {},
   "outputs": [],
   "source": [
    "table['stm_meld_gebeld_duur'] = (table['stm_aanngeb_ddt'] - table['stm_sap_meld_ddt']).astype('timedelta64[m]')\n",
    "table['stm_meld_ter_plekken_duur'] = (table['stm_aanntpl_ddt'] - table['stm_sap_meld_ddt']).astype('timedelta64[m]')\n",
    "\n",
    "#vanaf gebeld tot ter plaatse\n",
    "table['stm_gebeld_ter_plekken_duur'] = (table['stm_aanntpl_ddt'] - table['stm_aanngeb_ddt']).astype('timedelta64[m]')\n",
    "table.loc[(table['stm_meld_gebeld_duur'] < 0), 'stm_meld_gebeld_duur'] = 0\n",
    "table.loc[(table['stm_meld_ter_plekken_duur'] < 0), 'stm_meld_ter_plekken_duur'] = 0\n",
    "table.loc[(table['stm_gebeld_ter_plekken_duur'] < 0), 'stm_gebeld_ter_plekken_duur'] = 0\n",
    "\n",
    "table['stm_meld_gebeld_duur'] = table['stm_meld_gebeld_duur'].fillna(0)\n",
    "table['stm_meld_ter_plekken_duur'] = table['stm_meld_ter_plekken_duur'].fillna(0)\n",
    "table['stm_gebeld_ter_plekken_duur'] = table['stm_gebeld_ter_plekken_duur'].fillna(0)\n",
    "\n",
    "table = table[table['stm_gebeld_ter_plekken_duur'] < 1000]\n",
    "value_counts = table['stm_equipm_soort_mld'].value_counts()  \n",
    "table['stm_equipm_soort_mld'].replace((value_counts[value_counts <= 1].index), np.nan, inplace=True)"
   ]
  },
  {
   "cell_type": "markdown",
   "id": "169f6388",
   "metadata": {},
   "source": [
    "## 10. Target encoding"
   ]
  },
  {
   "cell_type": "markdown",
   "id": "0a47ada7",
   "metadata": {},
   "source": [
    "Voor de kolommen die gekozen zijn als feature worden hier twee kolommen omgezet naar de leave one out encoder. In business understanding wordt dit verder uitgelegd."
   ]
  },
  {
   "cell_type": "code",
   "execution_count": 37,
   "id": "56d8c2c7",
   "metadata": {},
   "outputs": [],
   "source": [
    "equipm_soort_encoder = LeaveOneOutEncoder(return_df=True, sigma=0.05)\n",
    "table['stm_equipm_soort_mld_looe_mean'] = equipm_soort_encoder.fit_transform(table['stm_equipm_soort_mld'].astype('category'), table['stm_fh_duur'])\n",
    "\n",
    "tech_soort_encoder = LeaveOneOutEncoder(return_df=True, sigma=0.05)\n",
    "table['stm_techn_mld_looe_mean'] = tech_soort_encoder.fit_transform(table['stm_techn_mld'].astype('category'), table['stm_fh_duur'])"
   ]
  },
  {
   "cell_type": "code",
   "execution_count": 38,
   "id": "f1721dc3",
   "metadata": {},
   "outputs": [
    {
     "data": {
      "text/html": [
       "<div>\n",
       "<style scoped>\n",
       "    .dataframe tbody tr th:only-of-type {\n",
       "        vertical-align: middle;\n",
       "    }\n",
       "\n",
       "    .dataframe tbody tr th {\n",
       "        vertical-align: top;\n",
       "    }\n",
       "\n",
       "    .dataframe thead th {\n",
       "        text-align: right;\n",
       "    }\n",
       "</style>\n",
       "<table border=\"1\" class=\"dataframe\">\n",
       "  <thead>\n",
       "    <tr style=\"text-align: right;\">\n",
       "      <th></th>\n",
       "      <th>stm_techn_mld_looe_mean</th>\n",
       "      <th>stm_techn_mld_looe_mean</th>\n",
       "    </tr>\n",
       "  </thead>\n",
       "  <tbody>\n",
       "    <tr>\n",
       "      <th>32099</th>\n",
       "      <td>129.260463</td>\n",
       "      <td>129.260463</td>\n",
       "    </tr>\n",
       "    <tr>\n",
       "      <th>91875</th>\n",
       "      <td>121.491915</td>\n",
       "      <td>121.491915</td>\n",
       "    </tr>\n",
       "    <tr>\n",
       "      <th>99101</th>\n",
       "      <td>130.842291</td>\n",
       "      <td>130.842291</td>\n",
       "    </tr>\n",
       "    <tr>\n",
       "      <th>139804</th>\n",
       "      <td>119.804532</td>\n",
       "      <td>119.804532</td>\n",
       "    </tr>\n",
       "    <tr>\n",
       "      <th>139806</th>\n",
       "      <td>117.997754</td>\n",
       "      <td>117.997754</td>\n",
       "    </tr>\n",
       "    <tr>\n",
       "      <th>...</th>\n",
       "      <td>...</td>\n",
       "      <td>...</td>\n",
       "    </tr>\n",
       "    <tr>\n",
       "      <th>898496</th>\n",
       "      <td>121.182160</td>\n",
       "      <td>121.182160</td>\n",
       "    </tr>\n",
       "    <tr>\n",
       "      <th>898507</th>\n",
       "      <td>125.358937</td>\n",
       "      <td>125.358937</td>\n",
       "    </tr>\n",
       "    <tr>\n",
       "      <th>898521</th>\n",
       "      <td>118.215635</td>\n",
       "      <td>118.215635</td>\n",
       "    </tr>\n",
       "    <tr>\n",
       "      <th>898523</th>\n",
       "      <td>114.289710</td>\n",
       "      <td>114.289710</td>\n",
       "    </tr>\n",
       "    <tr>\n",
       "      <th>898525</th>\n",
       "      <td>130.549454</td>\n",
       "      <td>130.549454</td>\n",
       "    </tr>\n",
       "  </tbody>\n",
       "</table>\n",
       "<p>217315 rows × 2 columns</p>\n",
       "</div>"
      ],
      "text/plain": [
       "        stm_techn_mld_looe_mean  stm_techn_mld_looe_mean\n",
       "32099                129.260463               129.260463\n",
       "91875                121.491915               121.491915\n",
       "99101                130.842291               130.842291\n",
       "139804               119.804532               119.804532\n",
       "139806               117.997754               117.997754\n",
       "...                         ...                      ...\n",
       "898496               121.182160               121.182160\n",
       "898507               125.358937               125.358937\n",
       "898521               118.215635               118.215635\n",
       "898523               114.289710               114.289710\n",
       "898525               130.549454               130.549454\n",
       "\n",
       "[217315 rows x 2 columns]"
      ]
     },
     "execution_count": 38,
     "metadata": {},
     "output_type": "execute_result"
    }
   ],
   "source": [
    "table[['stm_techn_mld_looe_mean', 'stm_techn_mld_looe_mean']]"
   ]
  },
  {
   "cell_type": "markdown",
   "id": "df0fbaa8",
   "metadata": {},
   "source": [
    "<h1> Pessimisme target </h1>\n",
    "(door Levi Verhoef)\n",
    "\n",
    "Vanuit prorail werd gecommuniceerd dat monteurs algemeen gesproken een functiehersteltijd negatief inschatten. Ze zijn liever pessimistisch over het herstellen van de functionaliteit omdat er op een te korte prognose een boete staat.\n",
    "\n",
    "We willen dit pessimisme van de monteurs proberen in kaart te brengen. Hiervoor willen we de prognose van de monteurs vergelijken met de daadwerkelijke functiehersteltijd.\n",
    "\n",
    "We maken twee nieuwe kolommen aan waarin pessisme zowel in minuten als in percentage staat aangegeven. "
   ]
  },
  {
   "cell_type": "code",
   "execution_count": 40,
   "id": "18cf4207",
   "metadata": {},
   "outputs": [
    {
     "data": {
      "text/plain": [
       "-44.0196166854566"
      ]
     },
     "execution_count": 40,
     "metadata": {},
     "output_type": "execute_result"
    }
   ],
   "source": [
    "table['pessimism_minutes'] = table['stm_progfh_in_duur'] - table['stm_fh_duur']\n",
    "table['pessimism_percentage'] = (table['pessimism_minutes'] / table['stm_fh_duur']) * 100\n",
    "\n",
    "table['pessimism_minutes'].mean()"
   ]
  },
  {
   "cell_type": "markdown",
   "id": "dedc94b4",
   "metadata": {},
   "source": [
    "Interessant genoeg komen we hier achter een verkeerde aanname van prorail:\n",
    "\n",
    "Monteurs zijn gemiddeld genomen helemaal niet pessimistisch. De prognose is gemiddeld gezien meer dan een uur te kort. De aanname was dat prorail monteurs over het algemeen het herstel langer inschatten omdat zij een boete riskeren wanneer ze dat niet doen, maar het blijkt dat hun prognoses, gemiddeld genomen, 17% te laag zijn:"
   ]
  },
  {
   "cell_type": "code",
   "execution_count": 41,
   "id": "e98adc5d",
   "metadata": {},
   "outputs": [
    {
     "data": {
      "text/plain": [
       "-17.06402151318975"
      ]
     },
     "execution_count": 41,
     "metadata": {},
     "output_type": "execute_result"
    }
   ],
   "source": [
    "table['pessimism_percentage'].mean()"
   ]
  },
  {
   "cell_type": "markdown",
   "id": "10e77563",
   "metadata": {},
   "source": [
    "De gemiddeldes voor pesismisme zien er zo uit:"
   ]
  },
  {
   "cell_type": "code",
   "execution_count": 22,
   "id": "ffd92c22",
   "metadata": {},
   "outputs": [
    {
     "name": "stderr",
     "output_type": "stream",
     "text": [
      "C:\\Users\\Levi\\miniconda3\\lib\\site-packages\\seaborn\\_decorators.py:36: FutureWarning: Pass the following variable as a keyword arg: x. From version 0.12, the only valid positional argument will be `data`, and passing other arguments without an explicit keyword will result in an error or misinterpretation.\n",
      "  warnings.warn(\n"
     ]
    },
    {
     "data": {
      "image/png": "[encoded data removed]",
      "text/plain": [
       "<Figure size 432x288 with 1 Axes>"
      ]
     },
     "metadata": {
      "needs_background": "light"
     },
     "output_type": "display_data"
    }
   ],
   "source": [
    "sns.boxplot(table['pessimism_minutes'])\n",
    "plt.show()"
   ]
  },
  {
   "cell_type": "code",
   "execution_count": 23,
   "id": "45991ba2",
   "metadata": {},
   "outputs": [
    {
     "name": "stderr",
     "output_type": "stream",
     "text": [
      "C:\\Users\\Levi\\miniconda3\\lib\\site-packages\\seaborn\\_decorators.py:36: FutureWarning: Pass the following variable as a keyword arg: x. From version 0.12, the only valid positional argument will be `data`, and passing other arguments without an explicit keyword will result in an error or misinterpretation.\n",
      "  warnings.warn(\n"
     ]
    },
    {
     "data": {
      "image/png": "[encoded data removed]",
      "text/plain": [
       "<Figure size 432x288 with 1 Axes>"
      ]
     },
     "metadata": {
      "needs_background": "light"
     },
     "output_type": "display_data"
    }
   ],
   "source": [
    "sns.boxplot(table['pessimism_percentage'])\n",
    "plt.show()"
   ]
  },
  {
   "cell_type": "markdown",
   "id": "3c7eceea",
   "metadata": {},
   "source": [
    "Zoals je kunt aflezen, zien zowel de boxplots voor pessimisme in minuten als pessimisme in percentages er niet erg pessimistisch uit. negatieve waardes voor pessimisme in minuten betekend in feite optimisime, en bij percentages zien we dat er veel excorbitante percentages bij zitten.\n",
    "\n",
    "Ondanks deze opvallende resultaten, is het toch interessant of we pessimisme kunnen voorspellen. Wellicht dat we in plaats van pessimisme eerder naar optimisme willen kijken?"
   ]
  }
 ],
 "metadata": {
  "kernelspec": {
   "display_name": "Python 3 (ipykernel)",
   "language": "python",
   "name": "python3"
  },
  "language_info": {
   "codemirror_mode": {
    "name": "ipython",
    "version": 3
   },
   "file_extension": ".py",
   "mimetype": "text/x-python",
   "name": "python",
   "nbconvert_exporter": "python",
   "pygments_lexer": "ipython3",
   "version": "3.9.5"
  }
 },
 "nbformat": 4,
 "nbformat_minor": 5
}
