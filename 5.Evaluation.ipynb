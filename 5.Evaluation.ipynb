{
 "cells": [
  {
   "cell_type": "markdown",
   "id": "d9ae18bc",
   "metadata": {},
   "source": [
    "# Evaluation"
   ]
  },
  {
   "cell_type": "markdown",
   "id": "e7d25c5e",
   "metadata": {
    "cell_id": "00001-8b57e19f-dda1-4b16-88b3-0647a8b93e4e",
    "deepnote_cell_type": "markdown",
    "tags": []
   },
   "source": [
    "# Inhouds opgaven Evaluation\n",
    "\n",
    "## 1. Libraries\n",
    "## 2. Data Inladen\n",
    "## 3. Retrieve models\n",
    "## 4. Functions get prediction\n",
    "## 5. Example\n",
    "## 6. Conclusie"
   ]
  },
  {
   "cell_type": "markdown",
   "id": "d3a4804c",
   "metadata": {},
   "source": [
    "# 1. Libraries"
   ]
  },
  {
   "cell_type": "markdown",
   "id": "b67f2fc0",
   "metadata": {},
   "source": [
    "Hier importeren we de benodigde libraries voor de evaluatie."
   ]
  },
  {
   "cell_type": "code",
   "execution_count": 26,
   "id": "e33f4893",
   "metadata": {
    "cell_id": "00001-a3200876-5942-4d23-97d4-0630cb4f7509",
    "deepnote_cell_type": "code",
    "deepnote_to_be_reexecuted": false,
    "execution_millis": 694,
    "execution_start": 1636459866173,
    "source_hash": "9527aab5",
    "tags": []
   },
   "outputs": [],
   "source": [
    "import numpy as np\n",
    "import pandas as pd\n",
    "from sklearn.linear_model import LinearRegression\n",
    "from sklearn.metrics import r2_score\n",
    "from sklearn.metrics import mean_squared_error\n"
   ]
  },
  {
   "cell_type": "markdown",
   "id": "062fbe12",
   "metadata": {},
   "source": [
    "# 2. Retrieve models"
   ]
  },
  {
   "cell_type": "markdown",
   "id": "1af36ef0",
   "metadata": {},
   "source": [
    "Het terug halen van de verschilende modelen en encoders"
   ]
  },
  {
   "cell_type": "code",
   "execution_count": 27,
   "id": "5a9defb6",
   "metadata": {
    "cell_id": "00001-b3c8bfc8-98e3-4273-bb58-98cab0bd53de",
    "deepnote_cell_type": "code",
    "deepnote_to_be_reexecuted": false,
    "execution_millis": 55619,
    "execution_start": 1636459866878,
    "source_hash": "e794ed73",
    "tags": []
   },
   "outputs": [],
   "source": [
    "%%capture\n",
    "%run 4.Modeling.ipynb"
   ]
  },
  {
   "cell_type": "code",
   "execution_count": 28,
   "id": "fc783b2d",
   "metadata": {
    "cell_id": "00002-30a08e5c-932a-4bf9-ac98-7d4238d71561",
    "deepnote_cell_type": "code",
    "deepnote_to_be_reexecuted": false,
    "execution_millis": 1,
    "execution_start": 1636459922545,
    "source_hash": "6ac072bb",
    "tags": []
   },
   "outputs": [],
   "source": [
    "# model_list [0] == liniar regesion model\n",
    "# model_list[1] == randomforest\n",
    "# model_list[2] == target encoder\n",
    "model_list = return_models() \n"
   ]
  },
  {
   "cell_type": "markdown",
   "id": "e0928f2a",
   "metadata": {},
   "source": [
    "# 3. Data Inladen"
   ]
  },
  {
   "cell_type": "markdown",
   "id": "420a10f7",
   "metadata": {},
   "source": [
    "De validatieset inladen."
   ]
  },
  {
   "cell_type": "code",
   "execution_count": 29,
   "id": "9989d499",
   "metadata": {
    "cell_id": "00004-411a525d-e4e2-4381-a83c-1a27c1725c1f",
    "deepnote_cell_type": "code",
    "deepnote_to_be_reexecuted": false,
    "execution_millis": 138,
    "execution_start": 1636459922546,
    "source_hash": "34b61068",
    "tags": []
   },
   "outputs": [],
   "source": [
    "table = pd.read_csv('Validatieset_2020_2021_CSV.csv', sep=';')"
   ]
  },
  {
   "cell_type": "markdown",
   "id": "2dbb2981",
   "metadata": {},
   "source": [
    "# 4. Functions get prediction"
   ]
  },
  {
   "cell_type": "markdown",
   "id": "304fb73c",
   "metadata": {},
   "source": [
    "Voor het evalueren hebben we hier een aantal functies voor het toepassen van de modellen en de encoders. get_prediction_forest heeft een model en de data set nodig en loopt de gegeven data set af en voegt de predicties toe aan een lijst en retourneert die."
   ]
  },
  {
   "cell_type": "code",
   "execution_count": 30,
   "id": "3c561f11",
   "metadata": {},
   "outputs": [],
   "source": [
    "def get_prediction_forest(model_list, table):\n",
    "    prediction_list = []\n",
    "    for item in table.values:\n",
    "        prediction_list.append(model_list[1].predict([item]))\n",
    "        # Algemene RSME =55 minuten,  r2=0.79  ( random forest )\n",
    "    return prediction_list"
   ]
  },
  {
   "cell_type": "markdown",
   "id": "6b5458f5",
   "metadata": {},
   "source": [
    "get_prediction_linreg heeft een model en de data set nodig en loopt de gegeven data set af en voegt de predicties toe aan een lijst en retourneert die."
   ]
  },
  {
   "cell_type": "code",
   "execution_count": 31,
   "id": "853a2d60",
   "metadata": {
    "cell_id": "00006-e4fd555d-9a04-4404-ab1a-5e19ecac0180",
    "deepnote_cell_type": "code",
    "deepnote_to_be_reexecuted": false,
    "execution_millis": 1,
    "execution_start": 1636460395927,
    "source_hash": "819da4b0",
    "tags": []
   },
   "outputs": [],
   "source": [
    "def get_prediction_linreg(model_list, table):\n",
    "    prediction_list = []\n",
    "    for item in table.values:\n",
    "        prediction_list.append(model_list[0].predict([item]))\n",
    "        # Algemene RSME =108 minuten,  r2=0.21  ( random linreg )\n",
    "    return prediction_list"
   ]
  },
  {
   "cell_type": "markdown",
   "id": "253d131f",
   "metadata": {},
   "source": [
    "change_target_encoder heeft de encoder en de tabel nog en transformeert de gehele kolom naar de bij behorende encoded categorie mean."
   ]
  },
  {
   "cell_type": "code",
   "execution_count": 32,
   "id": "ed01c9fe",
   "metadata": {},
   "outputs": [],
   "source": [
    "def change_target_encoder(encoder, table):\n",
    "    table['stm_equipm_soort_mld_looe_mean'] = encoder.transform(table['stm_equipm_soort_mld'].astype('category'))\n",
    "    return table"
   ]
  },
  {
   "cell_type": "markdown",
   "id": "2b2b37ac",
   "metadata": {},
   "source": [
    "Voor de modellen is de duur van ter plaatsen nodig dit wordt hier onder berekend met de datatime objecten in de kolommen."
   ]
  },
  {
   "cell_type": "code",
   "execution_count": 33,
   "id": "0140fa86",
   "metadata": {},
   "outputs": [],
   "source": [
    "def change_type_create_duration(table):\n",
    "    table['stm_aanntpl_ddt'] = pd.to_datetime(table['stm_aanntpl_ddt'], errors='coerce', dayfirst=False, infer_datetime_format=True)\n",
    "    table['stm_aanngeb_ddt'] = pd.to_datetime(table['stm_aanngeb_ddt'], errors='coerce', dayfirst=False, infer_datetime_format=True)\n",
    "    table['stm_gebeld_ter_plekken_duur'] = (table['stm_aanntpl_ddt'] - table['stm_aanngeb_ddt']).astype('timedelta64[m]')\n",
    "    table['Functie Herstel Tijd Duur'] = pd.DataFrame()\n",
    "    return table\n",
    "    "
   ]
  },
  {
   "cell_type": "markdown",
   "id": "3d88c8e2",
   "metadata": {},
   "source": [
    "Hier maken we de functie herstel duur aan van de validatie set"
   ]
  },
  {
   "cell_type": "code",
   "execution_count": 41,
   "id": "1be75640",
   "metadata": {},
   "outputs": [],
   "source": [
    "def aanmaken_functie_herstel_duur(table):\n",
    "    table['stm_sap_meld_ddt'] = pd.to_datetime(table['stm_sap_meld_ddt'], errors='coerce', dayfirst=False, infer_datetime_format=True)\n",
    "    table['stm_fh_ddt'] = pd.to_datetime(table['stm_fh_ddt'], errors='coerce', dayfirst=False, infer_datetime_format=True)\n",
    "    table['Functie Herstel Tijd Duur'] = (table['stm_fh_ddt'] - table['stm_sap_meld_ddt']).astype('timedelta64[m]')\n",
    "    return table\n",
    "    "
   ]
  },
  {
   "cell_type": "markdown",
   "id": "6fc49c5a",
   "metadata": {},
   "source": [
    "# 5. Example"
   ]
  },
  {
   "cell_type": "markdown",
   "id": "36b7a388",
   "metadata": {},
   "source": [
    "Er moeten kolomen aan gemaakt worden zo als duur tussen tijd en target encoding."
   ]
  },
  {
   "cell_type": "code",
   "execution_count": 34,
   "id": "5eb735f2",
   "metadata": {},
   "outputs": [
    {
     "data": {
      "text/html": [
       "<div>\n",
       "<style scoped>\n",
       "    .dataframe tbody tr th:only-of-type {\n",
       "        vertical-align: middle;\n",
       "    }\n",
       "\n",
       "    .dataframe tbody tr th {\n",
       "        vertical-align: top;\n",
       "    }\n",
       "\n",
       "    .dataframe thead th {\n",
       "        text-align: right;\n",
       "    }\n",
       "</style>\n",
       "<table border=\"1\" class=\"dataframe\">\n",
       "  <thead>\n",
       "    <tr style=\"text-align: right;\">\n",
       "      <th></th>\n",
       "      <th>stm_progfh_in_duur</th>\n",
       "      <th>stm_equipm_soort_mld_looe_mean</th>\n",
       "      <th>stm_gebeld_ter_plekken_duur</th>\n",
       "    </tr>\n",
       "  </thead>\n",
       "  <tbody>\n",
       "    <tr>\n",
       "      <th>0</th>\n",
       "      <td>30</td>\n",
       "      <td>134.605802</td>\n",
       "      <td>40.0</td>\n",
       "    </tr>\n",
       "    <tr>\n",
       "      <th>1</th>\n",
       "      <td>77</td>\n",
       "      <td>102.943865</td>\n",
       "      <td>56.0</td>\n",
       "    </tr>\n",
       "    <tr>\n",
       "      <th>2</th>\n",
       "      <td>170</td>\n",
       "      <td>152.680873</td>\n",
       "      <td>16.0</td>\n",
       "    </tr>\n",
       "  </tbody>\n",
       "</table>\n",
       "</div>"
      ],
      "text/plain": [
       "   stm_progfh_in_duur  stm_equipm_soort_mld_looe_mean  \\\n",
       "0                  30                      134.605802   \n",
       "1                  77                      102.943865   \n",
       "2                 170                      152.680873   \n",
       "\n",
       "   stm_gebeld_ter_plekken_duur  \n",
       "0                         40.0  \n",
       "1                         56.0  \n",
       "2                         16.0  "
      ]
     },
     "execution_count": 34,
     "metadata": {},
     "output_type": "execute_result"
    }
   ],
   "source": [
    "table = change_type_create_duration(table)\n",
    "table = change_target_encoder(model_list[2], table)\n",
    "table = aanmaken_functie_herstel_duur(table)\n",
    "# hier boven staan de funcite, mee geven wordt op moment validatie zet en de model[2] encoder\n",
    "table[['stm_progfh_in_duur', 'stm_equipm_soort_mld_looe_mean', 'stm_gebeld_ter_plekken_duur']]"
   ]
  },
  {
   "cell_type": "markdown",
   "id": "0061754e",
   "metadata": {},
   "source": [
    "Er worden hier de verschillende predicties gemaakt met de modellen en terug gestopt in de table"
   ]
  },
  {
   "cell_type": "code",
   "execution_count": 45,
   "id": "6f8a0632",
   "metadata": {},
   "outputs": [],
   "source": [
    "table['Linear Prediction'] = pd.DataFrame(get_prediction_linreg(model_list, table[['stm_progfh_in_duur', 'stm_equipm_soort_mld_looe_mean', 'stm_gebeld_ter_plekken_duur']]))\n",
    "table['Forest Prediction'] = pd.DataFrame(get_prediction_forest(model_list, table[['stm_progfh_in_duur', 'stm_equipm_soort_mld_looe_mean', 'stm_gebeld_ter_plekken_duur']]))"
   ]
  },
  {
   "cell_type": "markdown",
   "id": "eebb6beb",
   "metadata": {},
   "source": [
    "Hier onder zijn de verschilde predicties gegeven met de prognose duur en de echte functie hersteltijd. Er is te zien dat de predicties ver af liggen van de geven functie herstel tijd duur en de prognose duur."
   ]
  },
  {
   "cell_type": "code",
   "execution_count": 47,
   "id": "6ad65613",
   "metadata": {},
   "outputs": [
    {
     "data": {
      "text/html": [
       "<div>\n",
       "<style scoped>\n",
       "    .dataframe tbody tr th:only-of-type {\n",
       "        vertical-align: middle;\n",
       "    }\n",
       "\n",
       "    .dataframe tbody tr th {\n",
       "        vertical-align: top;\n",
       "    }\n",
       "\n",
       "    .dataframe thead th {\n",
       "        text-align: right;\n",
       "    }\n",
       "</style>\n",
       "<table border=\"1\" class=\"dataframe\">\n",
       "  <thead>\n",
       "    <tr style=\"text-align: right;\">\n",
       "      <th></th>\n",
       "      <th>stm_progfh_in_duur</th>\n",
       "      <th>Forest Prediction</th>\n",
       "      <th>Linear Prediction</th>\n",
       "      <th>Functie Herstel Tijd Duur</th>\n",
       "    </tr>\n",
       "  </thead>\n",
       "  <tbody>\n",
       "    <tr>\n",
       "      <th>0</th>\n",
       "      <td>30</td>\n",
       "      <td>118.411482</td>\n",
       "      <td>81.055597</td>\n",
       "      <td>59.0</td>\n",
       "    </tr>\n",
       "    <tr>\n",
       "      <th>1</th>\n",
       "      <td>77</td>\n",
       "      <td>161.337087</td>\n",
       "      <td>110.637050</td>\n",
       "      <td>62.0</td>\n",
       "    </tr>\n",
       "    <tr>\n",
       "      <th>2</th>\n",
       "      <td>170</td>\n",
       "      <td>181.977543</td>\n",
       "      <td>110.221309</td>\n",
       "      <td>86.0</td>\n",
       "    </tr>\n",
       "  </tbody>\n",
       "</table>\n",
       "</div>"
      ],
      "text/plain": [
       "   stm_progfh_in_duur  Forest Prediction  Linear Prediction  \\\n",
       "0                  30         118.411482          81.055597   \n",
       "1                  77         161.337087         110.637050   \n",
       "2                 170         181.977543         110.221309   \n",
       "\n",
       "   Functie Herstel Tijd Duur  \n",
       "0                       59.0  \n",
       "1                       62.0  \n",
       "2                       86.0  "
      ]
     },
     "execution_count": 47,
     "metadata": {},
     "output_type": "execute_result"
    }
   ],
   "source": [
    "table[['stm_progfh_in_duur', 'Forest Prediction', 'Linear Prediction', 'Functie Herstel Tijd Duur']]"
   ]
  },
  {
   "cell_type": "markdown",
   "id": "1e815e9a",
   "metadata": {},
   "source": [
    "# 6. Conclusie"
   ]
  },
  {
   "cell_type": "markdown",
   "id": "2a289a48",
   "metadata": {},
   "source": [
    "We zien uit de validatie zet dat de prognose dichter in de buurt komt van de lineair regressie model en de random forest. Gebaseerd op de gegeven data set en de features die onderzocht zijn is er geen goed model te maken die een predictie geeft die beter is dan de prognose zelf. Er zou meer onderzoek gedaan moeten worden in de features om te kijken of er niet nog meer categorieën zijn die een betere verdeling hebben functie herstel tijd duur.\n"
   ]
  },
  {
   "cell_type": "markdown",
   "id": "2e13ab79",
   "metadata": {
    "cell_id": "00007-ed799a6b-acd8-44fa-8862-ca1c87645356",
    "deepnote_cell_type": "markdown",
    "tags": []
   },
   "source": []
  },
  {
   "cell_type": "markdown",
   "id": "5067f0e2",
   "metadata": {
    "created_in_deepnote_cell": true,
    "deepnote_cell_type": "markdown",
    "tags": []
   },
   "source": [
    "<a style='text-decoration:none;line-height:16px;display:flex;color:#5B5B62;padding:10px;justify-content:end;' href='https://deepnote.com?utm_source=created-in-deepnote-cell&projectId=df0a20df-15ef-4481-b361-742b03a94b10' target=\"_blank\">\n",
    "<img alt='Created in deepnote.com' style='display:inline;max-height:16px;margin:0px;margin-right:7.5px;' src='data:image/svg+xml;base64,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' > </img>\n",
    "Created in <span style='font-weight:600;margin-left:4px;'>Deepnote</span></a>"
   ]
  }
 ],
 "metadata": {
  "deepnote": {},
  "deepnote_execution_queue": [],
  "deepnote_notebook_id": "964fbb9d-e46b-4c7a-a22f-9ab2ee2532df",
  "kernelspec": {
   "display_name": "Python 3",
   "language": "python",
   "name": "python3"
  },
  "language_info": {
   "codemirror_mode": {
    "name": "ipython",
    "version": 3
   },
   "file_extension": ".py",
   "mimetype": "text/x-python",
   "name": "python",
   "nbconvert_exporter": "python",
   "pygments_lexer": "ipython3",
   "version": "3.8.8"
  }
 },
 "nbformat": 4,
 "nbformat_minor": 5
}
