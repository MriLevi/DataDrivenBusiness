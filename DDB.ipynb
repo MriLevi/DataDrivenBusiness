{
 "cells": [
  {
   "cell_type": "markdown",
   "metadata": {
    "collapsed": true,
    "pycharm": {
     "name": "#%%\n"
    }
   },
   "source": [
    "<h1> Herkansing DDB Pro Rail</h1>\n",
    "\n",
    "Levi Verhoef \n",
    "\n",
    "Student #: 1785902\n",
    "\n",
    "levi.verhoef@student.hu.nl\n",
    "\n",
    "15-07-2022"
   ]
  },
  {
   "cell_type": "code",
   "execution_count": null,
   "outputs": [],
   "source": [
    "import numpy as np\n",
    "import pandas as pd\n",
    "import matplotlib.pyplot as plt\n",
    "import seaborn as sns \n",
    "from sklearn.metrics import r2_score\n",
    "from sklearn.dummy import DummyRegressor\n",
    "from sklearn.model_selection import train_test_split\n",
    "from sklearn.metrics import mean_squared_error\n",
    "from sklearn.linear_model import LinearRegression\n",
    "from sklearn.ensemble import RandomForestRegressor"
   ],
   "metadata": {
    "collapsed": false,
    "pycharm": {
     "name": "#%%\n"
    }
   }
  },
  {
   "cell_type": "code",
   "execution_count": null,
   "outputs": [],
   "source": [
    "%%capture\n",
    "%run 3.Data_Preparation.ipynb"
   ],
   "metadata": {
    "collapsed": false,
    "pycharm": {
     "name": "#%%\n"
    }
   }
  },
  {
   "cell_type": "code",
   "execution_count": null,
   "outputs": [],
   "source": [
    "prep_list = return_model_data()\n",
    "data_table = prep_list[0]\n",
    "table.head(3)"
   ],
   "metadata": {
    "collapsed": false,
    "pycharm": {
     "name": "#%%\n"
    }
   }
  },
  {
   "cell_type": "markdown",
   "source": [
    "<h2> Baseline </h2>\n",
    "Ik begin hier door een baseline model te implementeren. Dit geeft een idee van wat de minimum RSME is die beter is dan een \"domme\" voorspelling.\n",
    "Dit baseline model gokt altijd de gemiddelde waarde van de te voorspellen waarde."
   ],
   "metadata": {
    "collapsed": false,
    "pycharm": {
     "name": "#%% md\n"
    }
   }
  },
  {
   "cell_type": "code",
   "execution_count": null,
   "outputs": [],
   "source": [
    "#DummyRegressor\n",
    "X_train, X_test, Y_train, Y_test = train_test_split(table['stm_fh_duur'], table['stm_fh_duur'])\n",
    "\n",
    "# We nemen de mean om alle data mee te nemen en ook de uitschieters.\n",
    "BaselineDummyRegressor = DummyRegressor(strategy=\"mean\")\n",
    "BaselineDummyRegressor.fit(X_train, Y_train)\n",
    "\n",
    "y_pred = BaselineDummyRegressor.predict(X_test)\n",
    "accuracy_r2 = BaselineDummyRegressor.score(Y_test, y_pred)\n",
    "\n",
    "print(\"RSME: \", np.sqrt(mean_squared_error(y_pred, Y_test)))"
   ],
   "metadata": {
    "collapsed": false,
    "pycharm": {
     "name": "#%%\n"
    }
   }
  },
  {
   "cell_type": "markdown",
   "source": [
    "We lezen hier af dat als we altijd de gemiddelde stm_fh_duur gokken, de RSME ~121 is. Dit is de waarde waar we onder willen komen."
   ],
   "metadata": {
    "collapsed": false,
    "pycharm": {
     "name": "#%% md\n"
    }
   }
  },
  {
   "cell_type": "markdown",
   "source": [
    "<h2> Lineaire Regressie</h2>"
   ],
   "metadata": {
    "collapsed": false,
    "pycharm": {
     "name": "#%% md\n"
    }
   }
  },
  {
   "cell_type": "code",
   "execution_count": 10,
   "metadata": {},
   "outputs": [
    {
     "data": {
      "text/html": [
       "<div>\n",
       "<style scoped>\n",
       "    .dataframe tbody tr th:only-of-type {\n",
       "        vertical-align: middle;\n",
       "    }\n",
       "\n",
       "    .dataframe tbody tr th {\n",
       "        vertical-align: top;\n",
       "    }\n",
       "\n",
       "    .dataframe thead th {\n",
       "        text-align: right;\n",
       "    }\n",
       "</style>\n",
       "<table border=\"1\" class=\"dataframe\">\n",
       "  <thead>\n",
       "    <tr style=\"text-align: right;\">\n",
       "      <th></th>\n",
       "      <th>#stm_sap_meldnr</th>\n",
       "      <th>stm_sap_meld_ddt</th>\n",
       "      <th>stm_geo_mld</th>\n",
       "      <th>stm_geo_mld_uit_functiepl</th>\n",
       "      <th>stm_equipm_nr_mld</th>\n",
       "      <th>stm_equipm_soort_mld</th>\n",
       "      <th>stm_km_van_mld</th>\n",
       "      <th>stm_km_tot_mld</th>\n",
       "      <th>stm_prioriteit</th>\n",
       "      <th>stm_status_melding_sap</th>\n",
       "      <th>...</th>\n",
       "      <th>stm_techn_gst</th>\n",
       "      <th>stm_progfh_in_duur</th>\n",
       "      <th>stm_progfh_gw_teller</th>\n",
       "      <th>stm_fh_duur</th>\n",
       "      <th>stm_reactie_duur</th>\n",
       "      <th>stm_meld_gebeld_duur</th>\n",
       "      <th>stm_meld_ter_plekken_duur</th>\n",
       "      <th>stm_gebeld_ter_plekken_duur</th>\n",
       "      <th>stm_equipm_soort_mld_looe_mean</th>\n",
       "      <th>stm_techn_mld_looe_mean</th>\n",
       "    </tr>\n",
       "  </thead>\n",
       "  <tbody>\n",
       "    <tr>\n",
       "      <th>32099</th>\n",
       "      <td>50112759</td>\n",
       "      <td>2012-06-12 20:50:00</td>\n",
       "      <td>104.0</td>\n",
       "      <td>104.0</td>\n",
       "      <td>None</td>\n",
       "      <td>None</td>\n",
       "      <td>0.0</td>\n",
       "      <td>0.0</td>\n",
       "      <td>9.0</td>\n",
       "      <td>MAFS</td>\n",
       "      <td>...</td>\n",
       "      <td>X</td>\n",
       "      <td>40.0</td>\n",
       "      <td>0.0</td>\n",
       "      <td>43.0</td>\n",
       "      <td>3.0</td>\n",
       "      <td>492.0</td>\n",
       "      <td>495.0</td>\n",
       "      <td>3.0</td>\n",
       "      <td>135.749106</td>\n",
       "      <td>133.791089</td>\n",
       "    </tr>\n",
       "    <tr>\n",
       "      <th>52801</th>\n",
       "      <td>50126248</td>\n",
       "      <td>2014-02-23 07:00:00</td>\n",
       "      <td>38.0</td>\n",
       "      <td>38.0</td>\n",
       "      <td>None</td>\n",
       "      <td>None</td>\n",
       "      <td>0.0</td>\n",
       "      <td>0.0</td>\n",
       "      <td>9.0</td>\n",
       "      <td>MAFS TVTK</td>\n",
       "      <td>...</td>\n",
       "      <td>X</td>\n",
       "      <td>0.0</td>\n",
       "      <td>0.0</td>\n",
       "      <td>15.0</td>\n",
       "      <td>0.0</td>\n",
       "      <td>0.0</td>\n",
       "      <td>0.0</td>\n",
       "      <td>0.0</td>\n",
       "      <td>133.449901</td>\n",
       "      <td>138.773729</td>\n",
       "    </tr>\n",
       "    <tr>\n",
       "      <th>55827</th>\n",
       "      <td>50127448</td>\n",
       "      <td>2014-04-21 03:37:00</td>\n",
       "      <td>NaN</td>\n",
       "      <td>NaN</td>\n",
       "      <td>None</td>\n",
       "      <td>None</td>\n",
       "      <td>0.0</td>\n",
       "      <td>0.0</td>\n",
       "      <td>9.0</td>\n",
       "      <td>MAFS TVTK</td>\n",
       "      <td>...</td>\n",
       "      <td>X</td>\n",
       "      <td>0.0</td>\n",
       "      <td>0.0</td>\n",
       "      <td>11.0</td>\n",
       "      <td>0.0</td>\n",
       "      <td>1523.0</td>\n",
       "      <td>0.0</td>\n",
       "      <td>0.0</td>\n",
       "      <td>111.385642</td>\n",
       "      <td>129.209508</td>\n",
       "    </tr>\n",
       "  </tbody>\n",
       "</table>\n",
       "<p>3 rows × 39 columns</p>\n",
       "</div>"
      ],
      "text/plain": [
       "       #stm_sap_meldnr    stm_sap_meld_ddt stm_geo_mld  \\\n",
       "32099         50112759 2012-06-12 20:50:00       104.0   \n",
       "52801         50126248 2014-02-23 07:00:00        38.0   \n",
       "55827         50127448 2014-04-21 03:37:00         NaN   \n",
       "\n",
       "       stm_geo_mld_uit_functiepl stm_equipm_nr_mld stm_equipm_soort_mld  \\\n",
       "32099                      104.0              None                 None   \n",
       "52801                       38.0              None                 None   \n",
       "55827                        NaN              None                 None   \n",
       "\n",
       "       stm_km_van_mld  stm_km_tot_mld  stm_prioriteit stm_status_melding_sap  \\\n",
       "32099             0.0             0.0             9.0                   MAFS   \n",
       "52801             0.0             0.0             9.0              MAFS TVTK   \n",
       "55827             0.0             0.0             9.0              MAFS TVTK   \n",
       "\n",
       "       ... stm_techn_gst stm_progfh_in_duur stm_progfh_gw_teller stm_fh_duur  \\\n",
       "32099  ...             X               40.0                  0.0        43.0   \n",
       "52801  ...             X                0.0                  0.0        15.0   \n",
       "55827  ...             X                0.0                  0.0        11.0   \n",
       "\n",
       "      stm_reactie_duur stm_meld_gebeld_duur  stm_meld_ter_plekken_duur  \\\n",
       "32099              3.0                492.0                      495.0   \n",
       "52801              0.0                  0.0                        0.0   \n",
       "55827              0.0               1523.0                        0.0   \n",
       "\n",
       "       stm_gebeld_ter_plekken_duur stm_equipm_soort_mld_looe_mean  \\\n",
       "32099                          3.0                     135.749106   \n",
       "52801                          0.0                     133.449901   \n",
       "55827                          0.0                     111.385642   \n",
       "\n",
       "       stm_techn_mld_looe_mean  \n",
       "32099               133.791089  \n",
       "52801               138.773729  \n",
       "55827               129.209508  \n",
       "\n",
       "[3 rows x 39 columns]"
      ]
     },
     "execution_count": 10,
     "metadata": {},
     "output_type": "execute_result"
    }
   ],
   "source": [
    "prep_list = return_model_data()\n",
    "data_table = prep_list[0]\n",
    "table.head(3)"
   ]
  },
  {
   "cell_type": "markdown",
   "metadata": {},
   "source": [
    "<h2> Baseline </h2>\n",
    "Ik begin hier door een baseline model te implementeren. Dit geeft een idee van wat de minimum RSME is die beter is dan een \"domme\" voorspelling.\n",
    "Dit baseline model gokt altijd de gemiddelde waarde van de te voorspellen waarde."
   ]
  },
  {
   "cell_type": "code",
   "execution_count": 23,
   "metadata": {},
   "outputs": [
    {
     "name": "stdout",
     "output_type": "stream",
     "text": [
      "RSME:  120.99088745014906\n"
     ]
    }
   ],
   "source": [
    "#DummyRegressor\n",
    "X_train, X_test, Y_train, Y_test = train_test_split(table['stm_fh_duur'], table['stm_fh_duur'])\n",
    "\n",
    "# We nemen de mean om alle data mee te nemen en ook de uitschieters.\n",
    "BaselineDummyRegressor = DummyRegressor(strategy=\"mean\")\n",
    "BaselineDummyRegressor.fit(X_train, Y_train)\n",
    "\n",
    "y_pred = BaselineDummyRegressor.predict(X_test)\n",
    "accuracy_r2 = BaselineDummyRegressor.score(Y_test, y_pred)\n",
    "\n",
    "print(\"RSME: \", np.sqrt(mean_squared_error(y_pred, Y_test)))"
   ]
  },
  {
   "cell_type": "markdown",
   "metadata": {},
   "source": [
    "We lezen hier af dat als we altijd de gemiddelde stm_fh_duur gokken, de RSME ~121 is. Dit is de waarde waar we onder willen komen."
   ]
  },
  {
   "cell_type": "markdown",
   "metadata": {},
   "source": [
    "<h2> Lineaire Regressie</h2>"
   ]
  },
  {
   "cell_type": "code",
   "execution_count": null,
   "metadata": {},
   "outputs": [],
   "source": []
  }
 ],
 "metadata": {
  "kernelspec": {
   "display_name": "Python 3",
   "language": "python",
   "name": "python3"
  },
  "language_info": {
   "codemirror_mode": {
    "name": "ipython",
    "version": 3
   },
   "file_extension": ".py",
   "mimetype": "text/x-python",
   "name": "python",
   "nbconvert_exporter": "python",
   "pygments_lexer": "ipython3",
   "version": "3.8.8"
  }
 },
 "nbformat": 4,
 "nbformat_minor": 1
}