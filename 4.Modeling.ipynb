{
 "cells": [
  {
   "cell_type": "markdown",
   "id": "0cbc5abf",
   "metadata": {
    "cell_id": "00000-4ced2109-156e-41df-9823-54fdc0eb6b98",
    "deepnote_cell_type": "markdown"
   },
   "source": [
    "# Modeling"
   ]
  },
  {
   "cell_type": "markdown",
   "id": "e68e37c5",
   "metadata": {},
   "source": [
    "# Inhouds opgaven modeling\n",
    "\n",
    "## 1. Libraries\n",
    "## 2. Data Inladen\n",
    "## 3. Data retrieve\n",
    "## 4. Baseline model\n",
    "## 5. Lineaire regression\n",
    "## 6. Random forest  regression\n"
   ]
  },
  {
   "cell_type": "markdown",
   "id": "49e25095",
   "metadata": {
    "cell_id": "00001-ad00172f-807a-42cd-ae69-4bc060d3f439",
    "deepnote_cell_type": "markdown"
   },
   "source": [
    "# 1. Libraries"
   ]
  },
  {
   "cell_type": "markdown",
   "id": "b15715cd",
   "metadata": {},
   "source": [
    "Hier importeren we de benodigde libraries voor de modellen."
   ]
  },
  {
   "cell_type": "code",
   "execution_count": 21,
   "id": "675117ba",
   "metadata": {
    "cell_id": "00002-32653f22-8dad-4389-8e25-280189ae88d5",
    "deepnote_cell_type": "code",
    "deepnote_to_be_reexecuted": false,
    "execution_millis": 3721,
    "execution_start": 1636459167436,
    "source_hash": "64d1971a"
   },
   "outputs": [],
   "source": [
    "import numpy as np\n",
    "import pandas as pd\n",
    "import matplotlib.pyplot as plt\n",
    "import seaborn as sns \n",
    "from sklearn.metrics import r2_score\n",
    "from sklearn.dummy import DummyRegressor\n",
    "from sklearn.model_selection import train_test_split\n",
    "from sklearn.metrics import mean_squared_error\n",
    "from sklearn.linear_model import LinearRegression\n",
    "from sklearn.ensemble import RandomForestRegressor"
   ]
  },
  {
   "cell_type": "markdown",
   "id": "adf6bbf8",
   "metadata": {
    "cell_id": "00003-7d8a1382-833e-407a-9ee7-1b0672911b5a",
    "deepnote_cell_type": "markdown"
   },
   "source": [
    "# 2. Data Inladen"
   ]
  },
  {
   "cell_type": "markdown",
   "id": "24abbc17",
   "metadata": {},
   "source": [
    "Hier onder wordt de data in geladen van uit het data preperation."
   ]
  },
  {
   "cell_type": "code",
   "execution_count": 22,
   "id": "6cc0feb7",
   "metadata": {
    "cell_id": "00004-0ed86a67-dba0-45b8-8276-c103d6870e22",
    "deepnote_cell_type": "code",
    "deepnote_to_be_reexecuted": false,
    "execution_millis": 60277,
    "execution_start": 1636459171164,
    "source_hash": "fafa414"
   },
   "outputs": [],
   "source": [
    "%%capture\n",
    "%run 3.Data_Preparation.ipynb"
   ]
  },
  {
   "cell_type": "code",
   "execution_count": 23,
   "id": "8a29eeba",
   "metadata": {
    "cell_id": "00005-eb700353-0b74-4819-a241-3a6de51859d9",
    "deepnote_cell_type": "code",
    "deepnote_to_be_reexecuted": false,
    "execution_millis": 63,
    "execution_start": 1636459231711,
    "source_hash": "456a97b3"
   },
   "outputs": [
    {
     "data": {
      "text/html": [
       "<div>\n",
       "<style scoped>\n",
       "    .dataframe tbody tr th:only-of-type {\n",
       "        vertical-align: middle;\n",
       "    }\n",
       "\n",
       "    .dataframe tbody tr th {\n",
       "        vertical-align: top;\n",
       "    }\n",
       "\n",
       "    .dataframe thead th {\n",
       "        text-align: right;\n",
       "    }\n",
       "</style>\n",
       "<table border=\"1\" class=\"dataframe\">\n",
       "  <thead>\n",
       "    <tr style=\"text-align: right;\">\n",
       "      <th></th>\n",
       "      <th>#stm_sap_meldnr</th>\n",
       "      <th>stm_sap_meld_ddt</th>\n",
       "      <th>stm_geo_mld</th>\n",
       "      <th>stm_geo_mld_uit_functiepl</th>\n",
       "      <th>stm_equipm_nr_mld</th>\n",
       "      <th>stm_equipm_soort_mld</th>\n",
       "      <th>stm_km_van_mld</th>\n",
       "      <th>stm_km_tot_mld</th>\n",
       "      <th>stm_prioriteit</th>\n",
       "      <th>stm_status_melding_sap</th>\n",
       "      <th>...</th>\n",
       "      <th>stm_techn_gst</th>\n",
       "      <th>stm_progfh_in_duur</th>\n",
       "      <th>stm_progfh_gw_teller</th>\n",
       "      <th>stm_fh_duur</th>\n",
       "      <th>stm_reactie_duur</th>\n",
       "      <th>stm_meld_gebeld_duur</th>\n",
       "      <th>stm_meld_ter_plekken_duur</th>\n",
       "      <th>stm_gebeld_ter_plekken_duur</th>\n",
       "      <th>stm_equipm_soort_mld_looe_mean</th>\n",
       "      <th>stm_techn_mld_looe_mean</th>\n",
       "    </tr>\n",
       "  </thead>\n",
       "  <tbody>\n",
       "    <tr>\n",
       "      <th>32099</th>\n",
       "      <td>50112759</td>\n",
       "      <td>2012-06-12 20:50:00</td>\n",
       "      <td>104.0</td>\n",
       "      <td>104.0</td>\n",
       "      <td>None</td>\n",
       "      <td>None</td>\n",
       "      <td>0.0</td>\n",
       "      <td>0.0</td>\n",
       "      <td>9.0</td>\n",
       "      <td>MAFS</td>\n",
       "      <td>...</td>\n",
       "      <td>X</td>\n",
       "      <td>40.0</td>\n",
       "      <td>0.0</td>\n",
       "      <td>43.0</td>\n",
       "      <td>3.0</td>\n",
       "      <td>492.0</td>\n",
       "      <td>495.0</td>\n",
       "      <td>3.0</td>\n",
       "      <td>143.116244</td>\n",
       "      <td>138.174714</td>\n",
       "    </tr>\n",
       "    <tr>\n",
       "      <th>52801</th>\n",
       "      <td>50126248</td>\n",
       "      <td>2014-02-23 07:00:00</td>\n",
       "      <td>38.0</td>\n",
       "      <td>38.0</td>\n",
       "      <td>None</td>\n",
       "      <td>None</td>\n",
       "      <td>0.0</td>\n",
       "      <td>0.0</td>\n",
       "      <td>9.0</td>\n",
       "      <td>MAFS TVTK</td>\n",
       "      <td>...</td>\n",
       "      <td>X</td>\n",
       "      <td>0.0</td>\n",
       "      <td>0.0</td>\n",
       "      <td>15.0</td>\n",
       "      <td>0.0</td>\n",
       "      <td>0.0</td>\n",
       "      <td>0.0</td>\n",
       "      <td>0.0</td>\n",
       "      <td>127.571993</td>\n",
       "      <td>136.989128</td>\n",
       "    </tr>\n",
       "    <tr>\n",
       "      <th>55827</th>\n",
       "      <td>50127448</td>\n",
       "      <td>2014-04-21 03:37:00</td>\n",
       "      <td>NaN</td>\n",
       "      <td>NaN</td>\n",
       "      <td>None</td>\n",
       "      <td>None</td>\n",
       "      <td>0.0</td>\n",
       "      <td>0.0</td>\n",
       "      <td>9.0</td>\n",
       "      <td>MAFS TVTK</td>\n",
       "      <td>...</td>\n",
       "      <td>X</td>\n",
       "      <td>0.0</td>\n",
       "      <td>0.0</td>\n",
       "      <td>11.0</td>\n",
       "      <td>0.0</td>\n",
       "      <td>1523.0</td>\n",
       "      <td>0.0</td>\n",
       "      <td>0.0</td>\n",
       "      <td>133.680506</td>\n",
       "      <td>130.665939</td>\n",
       "    </tr>\n",
       "  </tbody>\n",
       "</table>\n",
       "<p>3 rows × 39 columns</p>\n",
       "</div>"
      ],
      "text/plain": [
       "       #stm_sap_meldnr    stm_sap_meld_ddt stm_geo_mld  \\\n",
       "32099         50112759 2012-06-12 20:50:00       104.0   \n",
       "52801         50126248 2014-02-23 07:00:00        38.0   \n",
       "55827         50127448 2014-04-21 03:37:00         NaN   \n",
       "\n",
       "       stm_geo_mld_uit_functiepl stm_equipm_nr_mld stm_equipm_soort_mld  \\\n",
       "32099                      104.0              None                 None   \n",
       "52801                       38.0              None                 None   \n",
       "55827                        NaN              None                 None   \n",
       "\n",
       "       stm_km_van_mld  stm_km_tot_mld  stm_prioriteit stm_status_melding_sap  \\\n",
       "32099             0.0             0.0             9.0                   MAFS   \n",
       "52801             0.0             0.0             9.0              MAFS TVTK   \n",
       "55827             0.0             0.0             9.0              MAFS TVTK   \n",
       "\n",
       "       ... stm_techn_gst stm_progfh_in_duur stm_progfh_gw_teller stm_fh_duur  \\\n",
       "32099  ...             X               40.0                  0.0        43.0   \n",
       "52801  ...             X                0.0                  0.0        15.0   \n",
       "55827  ...             X                0.0                  0.0        11.0   \n",
       "\n",
       "      stm_reactie_duur stm_meld_gebeld_duur  stm_meld_ter_plekken_duur  \\\n",
       "32099              3.0                492.0                      495.0   \n",
       "52801              0.0                  0.0                        0.0   \n",
       "55827              0.0               1523.0                        0.0   \n",
       "\n",
       "       stm_gebeld_ter_plekken_duur stm_equipm_soort_mld_looe_mean  \\\n",
       "32099                          3.0                     143.116244   \n",
       "52801                          0.0                     127.571993   \n",
       "55827                          0.0                     133.680506   \n",
       "\n",
       "       stm_techn_mld_looe_mean  \n",
       "32099               138.174714  \n",
       "52801               136.989128  \n",
       "55827               130.665939  \n",
       "\n",
       "[3 rows x 39 columns]"
      ]
     },
     "execution_count": 23,
     "metadata": {},
     "output_type": "execute_result"
    }
   ],
   "source": [
    "prep_list = return_model_data()\n",
    "table = prep_list[0]\n",
    "table.head(3)"
   ]
  },
  {
   "cell_type": "markdown",
   "id": "63a7a1c3",
   "metadata": {},
   "source": [
    "# 3. Data retrieval"
   ]
  },
  {
   "cell_type": "markdown",
   "id": "32809239",
   "metadata": {},
   "source": [
    "Voor het terug halen van de modellen voor de evaluatie is hier een functie die de benodigde modellen retourneert."
   ]
  },
  {
   "cell_type": "code",
   "execution_count": 24,
   "id": "f47f83cb",
   "metadata": {
    "cell_id": "00021-854bf843-a8e5-45d3-9f90-243dfd17d4b3",
    "deepnote_cell_type": "code",
    "deepnote_to_be_reexecuted": false,
    "execution_start": 1636459295518,
    "source_hash": "b528b8dd",
    "tags": []
   },
   "outputs": [],
   "source": [
    "def return_models():\n",
    "    liniar_reg\n",
    "    return [liniar_reg, random_forest, prep_list[1]]\n",
    "# preplist is target encoder"
   ]
  },
  {
   "cell_type": "markdown",
   "id": "17910323",
   "metadata": {
    "cell_id": "00006-d7921b7b-fdef-4d3c-bc1e-fe3a48fe2300",
    "deepnote_cell_type": "markdown"
   },
   "source": [
    "# 4. Baseline model"
   ]
  },
  {
   "cell_type": "markdown",
   "id": "cde2a8f8",
   "metadata": {
    "cell_id": "00009-37cbe761-b68a-4e4a-8535-55c675e69d66",
    "deepnote_cell_type": "markdown"
   },
   "source": [
    "Hier gebruiken we een dummy regressor voor een baseline model. We gebruiken hier voor de optie mean dit geeft altijd de gemiddelde tijd duur als voorspelling terug. "
   ]
  },
  {
   "cell_type": "code",
   "execution_count": 25,
   "id": "a21f3580",
   "metadata": {
    "cell_id": "00010-c9e16c93-1504-4292-b795-1d8264e56bc7",
    "deepnote_cell_type": "code",
    "deepnote_to_be_reexecuted": false,
    "execution_millis": 48,
    "execution_start": 1636459231789,
    "source_hash": "d9617874"
   },
   "outputs": [
    {
     "name": "stdout",
     "output_type": "stream",
     "text": [
      "Echte waarde:  470.0\n",
      "Voorspelde waarde:  134.71143648850185\n",
      "RSME:  121.61534594753275\n"
     ]
    }
   ],
   "source": [
    "#DummyRegressor\n",
    "X_train, X_test, Y_train, Y_test = train_test_split(table['stm_fh_duur'], table['stm_fh_duur'])\n",
    "\n",
    "# We nemen de mean om alle data mee te nemen en ook de uitschieters.\n",
    "BaselineDummyRegressor = DummyRegressor(strategy=\"mean\")\n",
    "BaselineDummyRegressor.fit(X_train, Y_train)\n",
    "\n",
    "y_pred = BaselineDummyRegressor.predict(X_test)\n",
    "accuracy_r2 = BaselineDummyRegressor.score(Y_test, y_pred)\n",
    "\n",
    "print(\"Echte waarde: \", Y_test[0:1].values[0])\n",
    "print(\"Voorspelde waarde: \", y_pred[0:1][0])\n",
    "print(\"RSME: \", np.sqrt(mean_squared_error(y_pred, Y_test)))"
   ]
  },
  {
   "cell_type": "markdown",
   "id": "a3aa1771",
   "metadata": {},
   "source": [
    "We kunnen hieruit concluderen dat als altijd de gemiddelde duur wordt gegeven als predictie dat de fout afstand 121 minuten is. Dus onze modellen zouden dus onder deze afstand in tijd moeten komen willen ze functioneel zijn."
   ]
  },
  {
   "cell_type": "code",
   "execution_count": 26,
   "id": "487ec868",
   "metadata": {},
   "outputs": [
    {
     "data": {
      "text/plain": [
       "<AxesSubplot:xlabel='stm_fh_duur'>"
      ]
     },
     "execution_count": 26,
     "metadata": {},
     "output_type": "execute_result"
    },
    {
     "data": {
      "image/png": "[encoded data removed]",
      "text/plain": [
       "<Figure size 432x288 with 1 Axes>"
      ]
     },
     "metadata": {
      "needs_background": "light"
     },
     "output_type": "display_data"
    }
   ],
   "source": [
    "# Prediction tegen eigenlijke uitkomst\n",
    "sns.regplot(x=Y_test, y=y_pred, ci=None, color=\"r\")"
   ]
  },
  {
   "cell_type": "markdown",
   "id": "fb07e44b",
   "metadata": {
    "cell_id": "00011-2da34721-fc74-48b1-960f-9312e4a72282",
    "deepnote_cell_type": "markdown"
   },
   "source": [
    "# 5 Lineaire regression"
   ]
  },
  {
   "cell_type": "markdown",
   "id": "efb0b853",
   "metadata": {},
   "source": [
    "We hebben hier gebruik gemaakt van lineaire regressie. Hier hebben we gebruik gemaakt van de prognose duur, duur ter plekken en equipment soort encoded."
   ]
  },
  {
   "cell_type": "code",
   "execution_count": 19,
   "id": "40ee7ea0",
   "metadata": {
    "cell_id": "00012-2a3591ab-7981-4921-9586-70555a679350",
    "deepnote_cell_type": "code",
    "deepnote_to_be_reexecuted": false,
    "execution_millis": 79,
    "execution_start": 1636459293734,
    "source_hash": "aa81890a",
    "tags": []
   },
   "outputs": [],
   "source": [
    "linreg_table = table[['stm_progfh_in_duur','stm_equipm_soort_mld_looe_mean', 'stm_gebeld_ter_plekken_duur']]\n",
    "X_train, X_test, Y_train, Y_test = train_test_split(linreg_table, table['stm_fh_duur'])"
   ]
  },
  {
   "cell_type": "markdown",
   "id": "ec671e95",
   "metadata": {},
   "source": [
    "Er is te zien dat de rsme van de hele data set 64 is. Er is dus een verbetering van de tijds gebaseerd op het gemiddelde."
   ]
  },
  {
   "cell_type": "code",
   "execution_count": 8,
   "id": "7a5f8e41",
   "metadata": {
    "cell_id": "00012-a6f0a828-7895-435a-b493-e4d15ece1adb",
    "deepnote_cell_type": "code",
    "deepnote_to_be_reexecuted": false,
    "execution_millis": 107,
    "execution_start": 1636459293827,
    "source_hash": "d1360842"
   },
   "outputs": [
    {
     "name": "stdout",
     "output_type": "stream",
     "text": [
      "Echte waarde:  18.0\n",
      "Voorspelde waarde:  56.49427458728047\n",
      "R2:  0.7274664320177664\n",
      "RSME:  63.73795244981239\n"
     ]
    }
   ],
   "source": [
    "liniar_reg = LinearRegression()\n",
    "\n",
    "liniar_reg.fit(X_train,Y_train)\n",
    "\n",
    "y_pred = liniar_reg.predict(X_test)\n",
    "\n",
    "accuracy_r2 = r2_score(Y_test, y_pred) \n",
    "\n",
    "print(\"Echte waarde: \", Y_test[0:1].values[0])\n",
    "print(\"Voorspelde waarde: \", y_pred[0:1][0])\n",
    "print(\"R2: \",  accuracy_r2)\n",
    "print(\"RSME: \", np.sqrt(mean_squared_error(y_pred, Y_test)))"
   ]
  },
  {
   "cell_type": "markdown",
   "id": "b6ab2afd",
   "metadata": {
    "cell_id": "00013-45900a88-1f8c-4dae-92ff-3aeafa09d8a8",
    "deepnote_cell_type": "markdown",
    "tags": []
   },
   "source": [
    "Hier is de visualisatie van de regressielijn op de y as is de predictie tijd te zien en op de x de functie hersteltijd. Er is hier uit te zien dat de predicties beter lopen in vergelijking tot het gemiddelde. Er is ook een lichtelijke op gaande lijn te herken in de grafiek alleen is het model ver van goed met een rsme van 64"
   ]
  },
  {
   "cell_type": "code",
   "execution_count": 9,
   "id": "32b4c846",
   "metadata": {},
   "outputs": [
    {
     "data": {
      "text/plain": [
       "<AxesSubplot:xlabel='stm_fh_duur'>"
      ]
     },
     "execution_count": 9,
     "metadata": {},
     "output_type": "execute_result"
    },
    {
     "data": {
      "image/png": "[encoded data removed]",
      "text/plain": [
       "<Figure size 432x288 with 1 Axes>"
      ]
     },
     "metadata": {
      "needs_background": "light"
     },
     "output_type": "display_data"
    }
   ],
   "source": [
    "# Prediction tegen eigenlijke uitkomst\n",
    "sns.regplot(x=Y_test, y=y_pred, ci=None, color=\"r\")"
   ]
  },
  {
   "cell_type": "markdown",
   "id": "d635b73f",
   "metadata": {
    "cell_id": "00015-d656e625-d3f9-47bf-8c66-7b35ba62d41f",
    "deepnote_cell_type": "markdown",
    "tags": []
   },
   "source": [
    "# 6. Random forest  regression"
   ]
  },
  {
   "cell_type": "markdown",
   "id": "d9fa931f",
   "metadata": {},
   "source": [
    "We zijn overgegaan naar een random forest regression model om te kijken of er verbeteringen waren te maken met de uitkomsten. Er wordt hier onder in een lange loop gekeken wat de beste random forest tree zou zijn er wordt gekeken naar verschillende hyperparameters: leaf, split, tree amount en depth gezocht welke combinatie de laagste rsme score heeft."
   ]
  },
  {
   "cell_type": "code",
   "execution_count": 10,
   "id": "6819da94",
   "metadata": {},
   "outputs": [],
   "source": [
    "def find_best_tree(table):\n",
    "    x_coloms = table[['stm_equipm_soort_mld_looe_mean', 'stm_progfh_in_duur', 'stm_gebeld_ter_plekken_duur']].astype('int64').values\n",
    "    y_coloms = table['stm_fh_duur'].astype('int64').values\n",
    "\n",
    "    max_depth = 20\n",
    "    range_depths = range(max_depth)\n",
    "    min_leaf = [3, 5, 11, 16, 20]\n",
    "    min_split = [3,10,15,20]\n",
    "    n_range = [1,2,3,4,5]\n",
    "\n",
    "    acc_list = []\n",
    "    meanscore = 999\n",
    "    meanscore_label = \"\"\n",
    "    best_regessors = []\n",
    "    for n in n_range:\n",
    "        for dept in range_depths[1:]:\n",
    "            for leaf in min_leaf:\n",
    "                for split in min_split:\n",
    "                    x_train, x_test, y_train, y_test = train_test_split(x_coloms, y_coloms)\n",
    "                    random_forest = RandomForestRegressor(n_estimators=n, criterion='mse', max_depth=dept, min_samples_leaf = leaf, min_samples_split = split, n_jobs=-2)\n",
    "                    random_forest.fit(x_train, y_train)\n",
    "                    y_pred = random_forest.predict(x_test)\n",
    "\n",
    "                    mean = np.sqrt(mean_squared_error(y_test, y_pred))\n",
    "                    if mean < meanscore:\n",
    "                        meanscore = mean  \n",
    "                        best_regessors = [random_forest]\n",
    "                        meanscore_label = (\"RMSE: \", np.sqrt(mean_squared_error(y_test, y_pred)), \"R2: \", r2_score(y_test, y_pred), \"Tree: \", n, \"Depth: \", dept, \"Leaf: \", leaf, \"Split\", split)\n",
    "       \n",
    "        print('Complete one', remember)\n",
    "        remember = remember+1\n",
    "    print(meanscore_label)\n",
    "    \n",
    "# Uncommended voor evaluation import. Duurt te lang\n",
    "# find_best_tree(table)"
   ]
  },
  {
   "cell_type": "markdown",
   "id": "517f6923",
   "metadata": {},
   "source": [
    "Hier onder tonen we de uit komst van het model met de beste hyperparameters. We zien daar bij de predictie, prognose en echte tijdsduur van de storing."
   ]
  },
  {
   "cell_type": "code",
   "execution_count": 11,
   "id": "11eba7fb",
   "metadata": {},
   "outputs": [
    {
     "name": "stdout",
     "output_type": "stream",
     "text": [
      "Echte waarde:  18.0\n",
      "Voorspelde waarde:  142.30824254715586\n",
      "Prognose waarde:  40\n",
      "R2:  0.7890159136800826\n",
      "RSME:  55.62080303038452\n"
     ]
    }
   ],
   "source": [
    "x_coloms = table[['stm_equipm_soort_mld_looe_mean', 'stm_progfh_in_duur', 'stm_gebeld_ter_plekken_duur', 'stm_techn_mld_looe_mean',]].astype('int64')\n",
    "y_coloms = table['stm_fh_duur'].astype('int64').values\n",
    "\n",
    "x_train, x_test, y_train, y_test = train_test_split(x_coloms, y_coloms)\n",
    "random_forest = RandomForestRegressor(n_estimators=5, min_samples_leaf = 11, max_depth=10,  min_samples_split = 3, n_jobs=-2)\n",
    "random_forest.fit(x_train, y_train)\n",
    "y_pred = random_forest.predict(x_test)\n",
    "\n",
    "accuracy_r2 = r2_score(y_test, y_pred)\n",
    "\n",
    "print(\"Echte waarde: \", Y_test[0:1].values[0])\n",
    "print(\"Voorspelde waarde: \", y_pred[0:1][0])\n",
    "print(\"Prognose waarde: \", x_coloms['stm_progfh_in_duur'].iloc[0])\n",
    "print(\"R2: \",  accuracy_r2)\n",
    "print(\"RSME: \", np.sqrt(mean_squared_error(y_pred, y_test)))"
   ]
  },
  {
   "cell_type": "markdown",
   "id": "07145dfa",
   "metadata": {},
   "source": [
    "Er is een betere rsme van 56 te zien. In de uitkomst hierboven is er te zien dat de voorspelling ver van de echte waarde ligt in vergelijking tot de prognose. Er dit was helaas al te verwachten met een rsme van 56."
   ]
  },
  {
   "cell_type": "markdown",
   "id": "a8f5186b",
   "metadata": {},
   "source": [
    "Hier onder bekijken hoe veel waarde de verschillende kolommen bijdragen aan het maken van de random forest prediction. Er is hier uit te zien dat de grootse importance de terplekken duur is. Dit was te verwachten in na het onderzoek in data understanding omdat ter plekke duur een lichtelijk linair verband heeft met de totalen functie herstel tijd duur."
   ]
  },
  {
   "cell_type": "code",
   "execution_count": 12,
   "id": "68e1f125",
   "metadata": {},
   "outputs": [
    {
     "data": {
      "text/plain": [
       "Text(0.5, 1.0, 'Importance random forest')"
      ]
     },
     "execution_count": 12,
     "metadata": {},
     "output_type": "execute_result"
    },
    {
     "data": {
      "image/png": "[encoded data removed]",
      "text/plain": [
       "<Figure size 1440x720 with 1 Axes>"
      ]
     },
     "metadata": {
      "needs_background": "light"
     },
     "output_type": "display_data"
    }
   ],
   "source": [
    "importence = random_forest.feature_importances_\n",
    "grapfh = pd.Series(importence, x_coloms.columns)\n",
    "fig, (ax1) = plt.subplots(1,1, figsize=(20,10))\n",
    "grapfh.sort_values().plot.barh(color='blue')\n",
    "plt.title('Importance random forest')"
   ]
  },
  {
   "cell_type": "markdown",
   "id": "e2d167f1",
   "metadata": {},
   "source": [
    "We nemen hieronder nog een kijkje naar wat voor rsme eruit komt zonder de ter plekken duur. Om een betere kijk te krijgen in de importance van de andere 2 kolommen"
   ]
  },
  {
   "cell_type": "code",
   "execution_count": 15,
   "id": "b3640a74",
   "metadata": {},
   "outputs": [
    {
     "name": "stdout",
     "output_type": "stream",
     "text": [
      "Echte waarde:  18.0\n",
      "Voorspelde waarde:  89.6345832997219\n",
      "Prognose waarde:  40\n",
      "R2:  0.24299606407847607\n",
      "RSME:  105.23324124647766\n"
     ]
    }
   ],
   "source": [
    "x_coloms = table[['stm_equipm_soort_mld_looe_mean', 'stm_progfh_in_duur', 'stm_techn_mld_looe_mean']].astype('int64')\n",
    "y_coloms = table['stm_fh_duur'].astype('int64').values\n",
    "\n",
    "x_train, x_test, y_train, y_test = train_test_split(x_coloms, y_coloms)\n",
    "random_forest = RandomForestRegressor(n_estimators=5, min_samples_leaf = 11, max_depth=10,  min_samples_split = 3, n_jobs=-2)\n",
    "random_forest.fit(x_train, y_train)\n",
    "y_pred = random_forest.predict(x_test)\n",
    "\n",
    "accuracy_r2 = r2_score(y_test, y_pred)\n",
    "\n",
    "print(\"Echte waarde: \", Y_test[0:1].values[0])\n",
    "print(\"Voorspelde waarde: \", y_pred[0:1][0])\n",
    "print(\"Prognose waarde: \", x_coloms['stm_progfh_in_duur'].iloc[0])\n",
    "print(\"R2: \",  accuracy_r2)\n",
    "print(\"RSME: \", np.sqrt(mean_squared_error(y_pred, y_test)))"
   ]
  },
  {
   "cell_type": "markdown",
   "id": "d74521f9",
   "metadata": {},
   "source": [
    "Met een rsme van 105 komen we erg dicht bij de gemiddelde rsme. Daar naast is er te zien dat de kolommen van equipment soort en technische bijdragen erg klein is in vergelijking tot de orinelen prognose"
   ]
  },
  {
   "cell_type": "code",
   "execution_count": 16,
   "id": "a39d2fa1",
   "metadata": {},
   "outputs": [
    {
     "data": {
      "text/plain": [
       "Text(0.5, 1.0, 'Importance random forest')"
      ]
     },
     "execution_count": 16,
     "metadata": {},
     "output_type": "execute_result"
    },
    {
     "data": {
      "image/png": "[encoded data removed]",
      "text/plain": [
       "<Figure size 1440x720 with 1 Axes>"
      ]
     },
     "metadata": {
      "needs_background": "light"
     },
     "output_type": "display_data"
    }
   ],
   "source": [
    "importence = random_forest.feature_importances_\n",
    "grapfh = pd.Series(importence, x_coloms.columns)\n",
    "fig, (ax1) = plt.subplots(1,1, figsize=(20,10))\n",
    "grapfh.sort_values().plot.barh(color='blue')\n",
    "plt.title('Importance random forest')"
   ]
  },
  {
   "cell_type": "markdown",
   "id": "f8d73dbe",
   "metadata": {
    "created_in_deepnote_cell": true,
    "deepnote_cell_type": "markdown",
    "tags": []
   },
   "source": [
    "<a style='text-decoration:none;line-height:16px;display:flex;color:#5B5B62;padding:10px;justify-content:end;' href='https://deepnote.com?utm_source=created-in-deepnote-cell&projectId=df0a20df-15ef-4481-b361-742b03a94b10' target=\"_blank\">\n",
    "<img alt='Created in deepnote.com' style='display:inline;max-height:16px;margin:0px;margin-right:7.5px;' src='data:image/svg+xml;base64,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' > </img>\n",
    "Created in <span style='font-weight:600;margin-left:4px;'>Deepnote</span></a>"
   ]
  },
  {
   "cell_type": "code",
   "execution_count": null,
   "id": "8b4332e9",
   "metadata": {},
   "outputs": [],
   "source": []
  },
  {
   "cell_type": "code",
   "execution_count": null,
   "id": "7f7520e0",
   "metadata": {},
   "outputs": [],
   "source": []
  },
  {
   "cell_type": "code",
   "execution_count": null,
   "id": "1620ff7b",
   "metadata": {},
   "outputs": [],
   "source": []
  }
 ],
 "metadata": {
  "deepnote": {},
  "deepnote_execution_queue": [],
  "deepnote_notebook_id": "5030acdc-d6ff-4e91-8625-f4e8281052f3",
  "kernelspec": {
   "display_name": "Python 3",
   "language": "python",
   "name": "python3"
  },
  "language_info": {
   "codemirror_mode": {
    "name": "ipython",
    "version": 3
   },
   "file_extension": ".py",
   "mimetype": "text/x-python",
   "name": "python",
   "nbconvert_exporter": "python",
   "pygments_lexer": "ipython3",
   "version": "3.8.8"
  }
 },
 "nbformat": 4,
 "nbformat_minor": 5
}
